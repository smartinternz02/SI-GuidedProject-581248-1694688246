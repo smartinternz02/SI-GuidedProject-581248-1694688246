{
 "cells": [
  {
   "cell_type": "raw",
   "id": "0c45db02",
   "metadata": {},
   "source": [
    "Name : CHINNAM SRI SAI SUMANTH REDDY\n",
    "Reg.No : 21BCE9129"
   ]
  },
  {
   "cell_type": "code",
   "execution_count": 1,
   "id": "a8d3efaf",
   "metadata": {},
   "outputs": [],
   "source": [
    "import numpy as np\n",
    "import pandas as pd\n",
    "import seaborn as sns\n",
    "import matplotlib.pyplot as plt"
   ]
  },
  {
   "cell_type": "code",
   "execution_count": 2,
   "id": "e2d3afe8",
   "metadata": {},
   "outputs": [],
   "source": [
    "data=pd.read_csv(\"Employee-Attrition.csv\")"
   ]
  },
  {
   "cell_type": "code",
   "execution_count": 3,
   "id": "98089440",
   "metadata": {},
   "outputs": [
    {
     "data": {
      "text/html": [
       "<div>\n",
       "<style scoped>\n",
       "    .dataframe tbody tr th:only-of-type {\n",
       "        vertical-align: middle;\n",
       "    }\n",
       "\n",
       "    .dataframe tbody tr th {\n",
       "        vertical-align: top;\n",
       "    }\n",
       "\n",
       "    .dataframe thead th {\n",
       "        text-align: right;\n",
       "    }\n",
       "</style>\n",
       "<table border=\"1\" class=\"dataframe\">\n",
       "  <thead>\n",
       "    <tr style=\"text-align: right;\">\n",
       "      <th></th>\n",
       "      <th>Age</th>\n",
       "      <th>Attrition</th>\n",
       "      <th>BusinessTravel</th>\n",
       "      <th>DailyRate</th>\n",
       "      <th>Department</th>\n",
       "      <th>DistanceFromHome</th>\n",
       "      <th>Education</th>\n",
       "      <th>EducationField</th>\n",
       "      <th>EmployeeCount</th>\n",
       "      <th>EmployeeNumber</th>\n",
       "      <th>...</th>\n",
       "      <th>RelationshipSatisfaction</th>\n",
       "      <th>StandardHours</th>\n",
       "      <th>StockOptionLevel</th>\n",
       "      <th>TotalWorkingYears</th>\n",
       "      <th>TrainingTimesLastYear</th>\n",
       "      <th>WorkLifeBalance</th>\n",
       "      <th>YearsAtCompany</th>\n",
       "      <th>YearsInCurrentRole</th>\n",
       "      <th>YearsSinceLastPromotion</th>\n",
       "      <th>YearsWithCurrManager</th>\n",
       "    </tr>\n",
       "  </thead>\n",
       "  <tbody>\n",
       "    <tr>\n",
       "      <th>0</th>\n",
       "      <td>41</td>\n",
       "      <td>Yes</td>\n",
       "      <td>Travel_Rarely</td>\n",
       "      <td>1102</td>\n",
       "      <td>Sales</td>\n",
       "      <td>1</td>\n",
       "      <td>2</td>\n",
       "      <td>Life Sciences</td>\n",
       "      <td>1</td>\n",
       "      <td>1</td>\n",
       "      <td>...</td>\n",
       "      <td>1</td>\n",
       "      <td>80</td>\n",
       "      <td>0</td>\n",
       "      <td>8</td>\n",
       "      <td>0</td>\n",
       "      <td>1</td>\n",
       "      <td>6</td>\n",
       "      <td>4</td>\n",
       "      <td>0</td>\n",
       "      <td>5</td>\n",
       "    </tr>\n",
       "    <tr>\n",
       "      <th>1</th>\n",
       "      <td>49</td>\n",
       "      <td>No</td>\n",
       "      <td>Travel_Frequently</td>\n",
       "      <td>279</td>\n",
       "      <td>Research &amp; Development</td>\n",
       "      <td>8</td>\n",
       "      <td>1</td>\n",
       "      <td>Life Sciences</td>\n",
       "      <td>1</td>\n",
       "      <td>2</td>\n",
       "      <td>...</td>\n",
       "      <td>4</td>\n",
       "      <td>80</td>\n",
       "      <td>1</td>\n",
       "      <td>10</td>\n",
       "      <td>3</td>\n",
       "      <td>3</td>\n",
       "      <td>10</td>\n",
       "      <td>7</td>\n",
       "      <td>1</td>\n",
       "      <td>7</td>\n",
       "    </tr>\n",
       "    <tr>\n",
       "      <th>2</th>\n",
       "      <td>37</td>\n",
       "      <td>Yes</td>\n",
       "      <td>Travel_Rarely</td>\n",
       "      <td>1373</td>\n",
       "      <td>Research &amp; Development</td>\n",
       "      <td>2</td>\n",
       "      <td>2</td>\n",
       "      <td>Other</td>\n",
       "      <td>1</td>\n",
       "      <td>4</td>\n",
       "      <td>...</td>\n",
       "      <td>2</td>\n",
       "      <td>80</td>\n",
       "      <td>0</td>\n",
       "      <td>7</td>\n",
       "      <td>3</td>\n",
       "      <td>3</td>\n",
       "      <td>0</td>\n",
       "      <td>0</td>\n",
       "      <td>0</td>\n",
       "      <td>0</td>\n",
       "    </tr>\n",
       "    <tr>\n",
       "      <th>3</th>\n",
       "      <td>33</td>\n",
       "      <td>No</td>\n",
       "      <td>Travel_Frequently</td>\n",
       "      <td>1392</td>\n",
       "      <td>Research &amp; Development</td>\n",
       "      <td>3</td>\n",
       "      <td>4</td>\n",
       "      <td>Life Sciences</td>\n",
       "      <td>1</td>\n",
       "      <td>5</td>\n",
       "      <td>...</td>\n",
       "      <td>3</td>\n",
       "      <td>80</td>\n",
       "      <td>0</td>\n",
       "      <td>8</td>\n",
       "      <td>3</td>\n",
       "      <td>3</td>\n",
       "      <td>8</td>\n",
       "      <td>7</td>\n",
       "      <td>3</td>\n",
       "      <td>0</td>\n",
       "    </tr>\n",
       "    <tr>\n",
       "      <th>4</th>\n",
       "      <td>27</td>\n",
       "      <td>No</td>\n",
       "      <td>Travel_Rarely</td>\n",
       "      <td>591</td>\n",
       "      <td>Research &amp; Development</td>\n",
       "      <td>2</td>\n",
       "      <td>1</td>\n",
       "      <td>Medical</td>\n",
       "      <td>1</td>\n",
       "      <td>7</td>\n",
       "      <td>...</td>\n",
       "      <td>4</td>\n",
       "      <td>80</td>\n",
       "      <td>1</td>\n",
       "      <td>6</td>\n",
       "      <td>3</td>\n",
       "      <td>3</td>\n",
       "      <td>2</td>\n",
       "      <td>2</td>\n",
       "      <td>2</td>\n",
       "      <td>2</td>\n",
       "    </tr>\n",
       "  </tbody>\n",
       "</table>\n",
       "<p>5 rows × 35 columns</p>\n",
       "</div>"
      ],
      "text/plain": [
       "   Age Attrition     BusinessTravel  DailyRate              Department  \\\n",
       "0   41       Yes      Travel_Rarely       1102                   Sales   \n",
       "1   49        No  Travel_Frequently        279  Research & Development   \n",
       "2   37       Yes      Travel_Rarely       1373  Research & Development   \n",
       "3   33        No  Travel_Frequently       1392  Research & Development   \n",
       "4   27        No      Travel_Rarely        591  Research & Development   \n",
       "\n",
       "   DistanceFromHome  Education EducationField  EmployeeCount  EmployeeNumber  \\\n",
       "0                 1          2  Life Sciences              1               1   \n",
       "1                 8          1  Life Sciences              1               2   \n",
       "2                 2          2          Other              1               4   \n",
       "3                 3          4  Life Sciences              1               5   \n",
       "4                 2          1        Medical              1               7   \n",
       "\n",
       "   ...  RelationshipSatisfaction StandardHours  StockOptionLevel  \\\n",
       "0  ...                         1            80                 0   \n",
       "1  ...                         4            80                 1   \n",
       "2  ...                         2            80                 0   \n",
       "3  ...                         3            80                 0   \n",
       "4  ...                         4            80                 1   \n",
       "\n",
       "   TotalWorkingYears  TrainingTimesLastYear WorkLifeBalance  YearsAtCompany  \\\n",
       "0                  8                      0               1               6   \n",
       "1                 10                      3               3              10   \n",
       "2                  7                      3               3               0   \n",
       "3                  8                      3               3               8   \n",
       "4                  6                      3               3               2   \n",
       "\n",
       "  YearsInCurrentRole  YearsSinceLastPromotion  YearsWithCurrManager  \n",
       "0                  4                        0                     5  \n",
       "1                  7                        1                     7  \n",
       "2                  0                        0                     0  \n",
       "3                  7                        3                     0  \n",
       "4                  2                        2                     2  \n",
       "\n",
       "[5 rows x 35 columns]"
      ]
     },
     "execution_count": 3,
     "metadata": {},
     "output_type": "execute_result"
    }
   ],
   "source": [
    "data.head()"
   ]
  },
  {
   "cell_type": "code",
   "execution_count": 4,
   "id": "c7a35fdc",
   "metadata": {},
   "outputs": [
    {
     "name": "stdout",
     "output_type": "stream",
     "text": [
      "<class 'pandas.core.frame.DataFrame'>\n",
      "RangeIndex: 1470 entries, 0 to 1469\n",
      "Data columns (total 35 columns):\n",
      " #   Column                    Non-Null Count  Dtype \n",
      "---  ------                    --------------  ----- \n",
      " 0   Age                       1470 non-null   int64 \n",
      " 1   Attrition                 1470 non-null   object\n",
      " 2   BusinessTravel            1470 non-null   object\n",
      " 3   DailyRate                 1470 non-null   int64 \n",
      " 4   Department                1470 non-null   object\n",
      " 5   DistanceFromHome          1470 non-null   int64 \n",
      " 6   Education                 1470 non-null   int64 \n",
      " 7   EducationField            1470 non-null   object\n",
      " 8   EmployeeCount             1470 non-null   int64 \n",
      " 9   EmployeeNumber            1470 non-null   int64 \n",
      " 10  EnvironmentSatisfaction   1470 non-null   int64 \n",
      " 11  Gender                    1470 non-null   object\n",
      " 12  HourlyRate                1470 non-null   int64 \n",
      " 13  JobInvolvement            1470 non-null   int64 \n",
      " 14  JobLevel                  1470 non-null   int64 \n",
      " 15  JobRole                   1470 non-null   object\n",
      " 16  JobSatisfaction           1470 non-null   int64 \n",
      " 17  MaritalStatus             1470 non-null   object\n",
      " 18  MonthlyIncome             1470 non-null   int64 \n",
      " 19  MonthlyRate               1470 non-null   int64 \n",
      " 20  NumCompaniesWorked        1470 non-null   int64 \n",
      " 21  Over18                    1470 non-null   object\n",
      " 22  OverTime                  1470 non-null   object\n",
      " 23  PercentSalaryHike         1470 non-null   int64 \n",
      " 24  PerformanceRating         1470 non-null   int64 \n",
      " 25  RelationshipSatisfaction  1470 non-null   int64 \n",
      " 26  StandardHours             1470 non-null   int64 \n",
      " 27  StockOptionLevel          1470 non-null   int64 \n",
      " 28  TotalWorkingYears         1470 non-null   int64 \n",
      " 29  TrainingTimesLastYear     1470 non-null   int64 \n",
      " 30  WorkLifeBalance           1470 non-null   int64 \n",
      " 31  YearsAtCompany            1470 non-null   int64 \n",
      " 32  YearsInCurrentRole        1470 non-null   int64 \n",
      " 33  YearsSinceLastPromotion   1470 non-null   int64 \n",
      " 34  YearsWithCurrManager      1470 non-null   int64 \n",
      "dtypes: int64(26), object(9)\n",
      "memory usage: 402.1+ KB\n"
     ]
    }
   ],
   "source": [
    "data.info()"
   ]
  },
  {
   "cell_type": "markdown",
   "id": "8392bd3d",
   "metadata": {},
   "source": [
    "# Handling the null values"
   ]
  },
  {
   "cell_type": "code",
   "execution_count": 5,
   "id": "d83691d1",
   "metadata": {},
   "outputs": [
    {
     "data": {
      "text/plain": [
       "Age                         False\n",
       "Attrition                   False\n",
       "BusinessTravel              False\n",
       "DailyRate                   False\n",
       "Department                  False\n",
       "DistanceFromHome            False\n",
       "Education                   False\n",
       "EducationField              False\n",
       "EmployeeCount               False\n",
       "EmployeeNumber              False\n",
       "EnvironmentSatisfaction     False\n",
       "Gender                      False\n",
       "HourlyRate                  False\n",
       "JobInvolvement              False\n",
       "JobLevel                    False\n",
       "JobRole                     False\n",
       "JobSatisfaction             False\n",
       "MaritalStatus               False\n",
       "MonthlyIncome               False\n",
       "MonthlyRate                 False\n",
       "NumCompaniesWorked          False\n",
       "Over18                      False\n",
       "OverTime                    False\n",
       "PercentSalaryHike           False\n",
       "PerformanceRating           False\n",
       "RelationshipSatisfaction    False\n",
       "StandardHours               False\n",
       "StockOptionLevel            False\n",
       "TotalWorkingYears           False\n",
       "TrainingTimesLastYear       False\n",
       "WorkLifeBalance             False\n",
       "YearsAtCompany              False\n",
       "YearsInCurrentRole          False\n",
       "YearsSinceLastPromotion     False\n",
       "YearsWithCurrManager        False\n",
       "dtype: bool"
      ]
     },
     "execution_count": 5,
     "metadata": {},
     "output_type": "execute_result"
    }
   ],
   "source": [
    "data.isnull().any()"
   ]
  },
  {
   "cell_type": "code",
   "execution_count": 6,
   "id": "a0dd0474",
   "metadata": {},
   "outputs": [],
   "source": [
    "cor=data.corr()"
   ]
  },
  {
   "cell_type": "code",
   "execution_count": 7,
   "id": "eec8a60a",
   "metadata": {},
   "outputs": [
    {
     "data": {
      "text/plain": [
       "<AxesSubplot:>"
      ]
     },
     "execution_count": 7,
     "metadata": {},
     "output_type": "execute_result"
    },
    {
     "data": {
      "image/png": "[encoded data removed]",
      "text/plain": [
       "<Figure size 1296x1296 with 2 Axes>"
      ]
     },
     "metadata": {
      "needs_background": "light"
     },
     "output_type": "display_data"
    }
   ],
   "source": [
    "fig=plt.figure(figsize=(18,18))\n",
    "sns.heatmap(cor,annot=True)"
   ]
  },
  {
   "cell_type": "code",
   "execution_count": 8,
   "id": "33eeb31e",
   "metadata": {},
   "outputs": [
    {
     "data": {
      "text/html": [
       "<div>\n",
       "<style scoped>\n",
       "    .dataframe tbody tr th:only-of-type {\n",
       "        vertical-align: middle;\n",
       "    }\n",
       "\n",
       "    .dataframe tbody tr th {\n",
       "        vertical-align: top;\n",
       "    }\n",
       "\n",
       "    .dataframe thead th {\n",
       "        text-align: right;\n",
       "    }\n",
       "</style>\n",
       "<table border=\"1\" class=\"dataframe\">\n",
       "  <thead>\n",
       "    <tr style=\"text-align: right;\">\n",
       "      <th></th>\n",
       "      <th>Age</th>\n",
       "      <th>DailyRate</th>\n",
       "      <th>DistanceFromHome</th>\n",
       "      <th>Education</th>\n",
       "      <th>EmployeeCount</th>\n",
       "      <th>EmployeeNumber</th>\n",
       "      <th>EnvironmentSatisfaction</th>\n",
       "      <th>HourlyRate</th>\n",
       "      <th>JobInvolvement</th>\n",
       "      <th>JobLevel</th>\n",
       "      <th>...</th>\n",
       "      <th>RelationshipSatisfaction</th>\n",
       "      <th>StandardHours</th>\n",
       "      <th>StockOptionLevel</th>\n",
       "      <th>TotalWorkingYears</th>\n",
       "      <th>TrainingTimesLastYear</th>\n",
       "      <th>WorkLifeBalance</th>\n",
       "      <th>YearsAtCompany</th>\n",
       "      <th>YearsInCurrentRole</th>\n",
       "      <th>YearsSinceLastPromotion</th>\n",
       "      <th>YearsWithCurrManager</th>\n",
       "    </tr>\n",
       "  </thead>\n",
       "  <tbody>\n",
       "    <tr>\n",
       "      <th>count</th>\n",
       "      <td>1470.000000</td>\n",
       "      <td>1470.000000</td>\n",
       "      <td>1470.000000</td>\n",
       "      <td>1470.000000</td>\n",
       "      <td>1470.0</td>\n",
       "      <td>1470.000000</td>\n",
       "      <td>1470.000000</td>\n",
       "      <td>1470.000000</td>\n",
       "      <td>1470.000000</td>\n",
       "      <td>1470.000000</td>\n",
       "      <td>...</td>\n",
       "      <td>1470.000000</td>\n",
       "      <td>1470.0</td>\n",
       "      <td>1470.000000</td>\n",
       "      <td>1470.000000</td>\n",
       "      <td>1470.000000</td>\n",
       "      <td>1470.000000</td>\n",
       "      <td>1470.000000</td>\n",
       "      <td>1470.000000</td>\n",
       "      <td>1470.000000</td>\n",
       "      <td>1470.000000</td>\n",
       "    </tr>\n",
       "    <tr>\n",
       "      <th>mean</th>\n",
       "      <td>36.923810</td>\n",
       "      <td>802.485714</td>\n",
       "      <td>9.192517</td>\n",
       "      <td>2.912925</td>\n",
       "      <td>1.0</td>\n",
       "      <td>1024.865306</td>\n",
       "      <td>2.721769</td>\n",
       "      <td>65.891156</td>\n",
       "      <td>2.729932</td>\n",
       "      <td>2.063946</td>\n",
       "      <td>...</td>\n",
       "      <td>2.712245</td>\n",
       "      <td>80.0</td>\n",
       "      <td>0.793878</td>\n",
       "      <td>11.279592</td>\n",
       "      <td>2.799320</td>\n",
       "      <td>2.761224</td>\n",
       "      <td>7.008163</td>\n",
       "      <td>4.229252</td>\n",
       "      <td>2.187755</td>\n",
       "      <td>4.123129</td>\n",
       "    </tr>\n",
       "    <tr>\n",
       "      <th>std</th>\n",
       "      <td>9.135373</td>\n",
       "      <td>403.509100</td>\n",
       "      <td>8.106864</td>\n",
       "      <td>1.024165</td>\n",
       "      <td>0.0</td>\n",
       "      <td>602.024335</td>\n",
       "      <td>1.093082</td>\n",
       "      <td>20.329428</td>\n",
       "      <td>0.711561</td>\n",
       "      <td>1.106940</td>\n",
       "      <td>...</td>\n",
       "      <td>1.081209</td>\n",
       "      <td>0.0</td>\n",
       "      <td>0.852077</td>\n",
       "      <td>7.780782</td>\n",
       "      <td>1.289271</td>\n",
       "      <td>0.706476</td>\n",
       "      <td>6.126525</td>\n",
       "      <td>3.623137</td>\n",
       "      <td>3.222430</td>\n",
       "      <td>3.568136</td>\n",
       "    </tr>\n",
       "    <tr>\n",
       "      <th>min</th>\n",
       "      <td>18.000000</td>\n",
       "      <td>102.000000</td>\n",
       "      <td>1.000000</td>\n",
       "      <td>1.000000</td>\n",
       "      <td>1.0</td>\n",
       "      <td>1.000000</td>\n",
       "      <td>1.000000</td>\n",
       "      <td>30.000000</td>\n",
       "      <td>1.000000</td>\n",
       "      <td>1.000000</td>\n",
       "      <td>...</td>\n",
       "      <td>1.000000</td>\n",
       "      <td>80.0</td>\n",
       "      <td>0.000000</td>\n",
       "      <td>0.000000</td>\n",
       "      <td>0.000000</td>\n",
       "      <td>1.000000</td>\n",
       "      <td>0.000000</td>\n",
       "      <td>0.000000</td>\n",
       "      <td>0.000000</td>\n",
       "      <td>0.000000</td>\n",
       "    </tr>\n",
       "    <tr>\n",
       "      <th>25%</th>\n",
       "      <td>30.000000</td>\n",
       "      <td>465.000000</td>\n",
       "      <td>2.000000</td>\n",
       "      <td>2.000000</td>\n",
       "      <td>1.0</td>\n",
       "      <td>491.250000</td>\n",
       "      <td>2.000000</td>\n",
       "      <td>48.000000</td>\n",
       "      <td>2.000000</td>\n",
       "      <td>1.000000</td>\n",
       "      <td>...</td>\n",
       "      <td>2.000000</td>\n",
       "      <td>80.0</td>\n",
       "      <td>0.000000</td>\n",
       "      <td>6.000000</td>\n",
       "      <td>2.000000</td>\n",
       "      <td>2.000000</td>\n",
       "      <td>3.000000</td>\n",
       "      <td>2.000000</td>\n",
       "      <td>0.000000</td>\n",
       "      <td>2.000000</td>\n",
       "    </tr>\n",
       "    <tr>\n",
       "      <th>50%</th>\n",
       "      <td>36.000000</td>\n",
       "      <td>802.000000</td>\n",
       "      <td>7.000000</td>\n",
       "      <td>3.000000</td>\n",
       "      <td>1.0</td>\n",
       "      <td>1020.500000</td>\n",
       "      <td>3.000000</td>\n",
       "      <td>66.000000</td>\n",
       "      <td>3.000000</td>\n",
       "      <td>2.000000</td>\n",
       "      <td>...</td>\n",
       "      <td>3.000000</td>\n",
       "      <td>80.0</td>\n",
       "      <td>1.000000</td>\n",
       "      <td>10.000000</td>\n",
       "      <td>3.000000</td>\n",
       "      <td>3.000000</td>\n",
       "      <td>5.000000</td>\n",
       "      <td>3.000000</td>\n",
       "      <td>1.000000</td>\n",
       "      <td>3.000000</td>\n",
       "    </tr>\n",
       "    <tr>\n",
       "      <th>75%</th>\n",
       "      <td>43.000000</td>\n",
       "      <td>1157.000000</td>\n",
       "      <td>14.000000</td>\n",
       "      <td>4.000000</td>\n",
       "      <td>1.0</td>\n",
       "      <td>1555.750000</td>\n",
       "      <td>4.000000</td>\n",
       "      <td>83.750000</td>\n",
       "      <td>3.000000</td>\n",
       "      <td>3.000000</td>\n",
       "      <td>...</td>\n",
       "      <td>4.000000</td>\n",
       "      <td>80.0</td>\n",
       "      <td>1.000000</td>\n",
       "      <td>15.000000</td>\n",
       "      <td>3.000000</td>\n",
       "      <td>3.000000</td>\n",
       "      <td>9.000000</td>\n",
       "      <td>7.000000</td>\n",
       "      <td>3.000000</td>\n",
       "      <td>7.000000</td>\n",
       "    </tr>\n",
       "    <tr>\n",
       "      <th>max</th>\n",
       "      <td>60.000000</td>\n",
       "      <td>1499.000000</td>\n",
       "      <td>29.000000</td>\n",
       "      <td>5.000000</td>\n",
       "      <td>1.0</td>\n",
       "      <td>2068.000000</td>\n",
       "      <td>4.000000</td>\n",
       "      <td>100.000000</td>\n",
       "      <td>4.000000</td>\n",
       "      <td>5.000000</td>\n",
       "      <td>...</td>\n",
       "      <td>4.000000</td>\n",
       "      <td>80.0</td>\n",
       "      <td>3.000000</td>\n",
       "      <td>40.000000</td>\n",
       "      <td>6.000000</td>\n",
       "      <td>4.000000</td>\n",
       "      <td>40.000000</td>\n",
       "      <td>18.000000</td>\n",
       "      <td>15.000000</td>\n",
       "      <td>17.000000</td>\n",
       "    </tr>\n",
       "  </tbody>\n",
       "</table>\n",
       "<p>8 rows × 26 columns</p>\n",
       "</div>"
      ],
      "text/plain": [
       "               Age    DailyRate  DistanceFromHome    Education  EmployeeCount  \\\n",
       "count  1470.000000  1470.000000       1470.000000  1470.000000         1470.0   \n",
       "mean     36.923810   802.485714          9.192517     2.912925            1.0   \n",
       "std       9.135373   403.509100          8.106864     1.024165            0.0   \n",
       "min      18.000000   102.000000          1.000000     1.000000            1.0   \n",
       "25%      30.000000   465.000000          2.000000     2.000000            1.0   \n",
       "50%      36.000000   802.000000          7.000000     3.000000            1.0   \n",
       "75%      43.000000  1157.000000         14.000000     4.000000            1.0   \n",
       "max      60.000000  1499.000000         29.000000     5.000000            1.0   \n",
       "\n",
       "       EmployeeNumber  EnvironmentSatisfaction   HourlyRate  JobInvolvement  \\\n",
       "count     1470.000000              1470.000000  1470.000000     1470.000000   \n",
       "mean      1024.865306                 2.721769    65.891156        2.729932   \n",
       "std        602.024335                 1.093082    20.329428        0.711561   \n",
       "min          1.000000                 1.000000    30.000000        1.000000   \n",
       "25%        491.250000                 2.000000    48.000000        2.000000   \n",
       "50%       1020.500000                 3.000000    66.000000        3.000000   \n",
       "75%       1555.750000                 4.000000    83.750000        3.000000   \n",
       "max       2068.000000                 4.000000   100.000000        4.000000   \n",
       "\n",
       "          JobLevel  ...  RelationshipSatisfaction  StandardHours  \\\n",
       "count  1470.000000  ...               1470.000000         1470.0   \n",
       "mean      2.063946  ...                  2.712245           80.0   \n",
       "std       1.106940  ...                  1.081209            0.0   \n",
       "min       1.000000  ...                  1.000000           80.0   \n",
       "25%       1.000000  ...                  2.000000           80.0   \n",
       "50%       2.000000  ...                  3.000000           80.0   \n",
       "75%       3.000000  ...                  4.000000           80.0   \n",
       "max       5.000000  ...                  4.000000           80.0   \n",
       "\n",
       "       StockOptionLevel  TotalWorkingYears  TrainingTimesLastYear  \\\n",
       "count       1470.000000        1470.000000            1470.000000   \n",
       "mean           0.793878          11.279592               2.799320   \n",
       "std            0.852077           7.780782               1.289271   \n",
       "min            0.000000           0.000000               0.000000   \n",
       "25%            0.000000           6.000000               2.000000   \n",
       "50%            1.000000          10.000000               3.000000   \n",
       "75%            1.000000          15.000000               3.000000   \n",
       "max            3.000000          40.000000               6.000000   \n",
       "\n",
       "       WorkLifeBalance  YearsAtCompany  YearsInCurrentRole  \\\n",
       "count      1470.000000     1470.000000         1470.000000   \n",
       "mean          2.761224        7.008163            4.229252   \n",
       "std           0.706476        6.126525            3.623137   \n",
       "min           1.000000        0.000000            0.000000   \n",
       "25%           2.000000        3.000000            2.000000   \n",
       "50%           3.000000        5.000000            3.000000   \n",
       "75%           3.000000        9.000000            7.000000   \n",
       "max           4.000000       40.000000           18.000000   \n",
       "\n",
       "       YearsSinceLastPromotion  YearsWithCurrManager  \n",
       "count              1470.000000           1470.000000  \n",
       "mean                  2.187755              4.123129  \n",
       "std                   3.222430              3.568136  \n",
       "min                   0.000000              0.000000  \n",
       "25%                   0.000000              2.000000  \n",
       "50%                   1.000000              3.000000  \n",
       "75%                   3.000000              7.000000  \n",
       "max                  15.000000             17.000000  \n",
       "\n",
       "[8 rows x 26 columns]"
      ]
     },
     "execution_count": 8,
     "metadata": {},
     "output_type": "execute_result"
    }
   ],
   "source": [
    "data.describe()"
   ]
  },
  {
   "cell_type": "markdown",
   "id": "ce9fa133",
   "metadata": {},
   "source": [
    "# Outliers"
   ]
  },
  {
   "cell_type": "code",
   "execution_count": 9,
   "id": "afcb64f1",
   "metadata": {},
   "outputs": [
    {
     "name": "stderr",
     "output_type": "stream",
     "text": [
      "C:\\Users\\suman\\anaconda3\\lib\\site-packages\\seaborn\\_decorators.py:36: FutureWarning: Pass the following variable as a keyword arg: x. From version 0.12, the only valid positional argument will be `data`, and passing other arguments without an explicit keyword will result in an error or misinterpretation.\n",
      "  warnings.warn(\n"
     ]
    },
    {
     "data": {
      "text/plain": [
       "<AxesSubplot:xlabel='DailyRate'>"
      ]
     },
     "execution_count": 9,
     "metadata": {},
     "output_type": "execute_result"
    },
    {
     "data": {
      "image/png": "[encoded data removed]",
      "text/plain": [
       "<Figure size 432x288 with 1 Axes>"
      ]
     },
     "metadata": {
      "needs_background": "light"
     },
     "output_type": "display_data"
    }
   ],
   "source": [
    "sns.boxplot(data[\"DailyRate\"])"
   ]
  },
  {
   "cell_type": "code",
   "execution_count": 10,
   "id": "4ff7f507",
   "metadata": {},
   "outputs": [
    {
     "name": "stderr",
     "output_type": "stream",
     "text": [
      "C:\\Users\\suman\\anaconda3\\lib\\site-packages\\seaborn\\_decorators.py:36: FutureWarning: Pass the following variable as a keyword arg: x. From version 0.12, the only valid positional argument will be `data`, and passing other arguments without an explicit keyword will result in an error or misinterpretation.\n",
      "  warnings.warn(\n"
     ]
    },
    {
     "data": {
      "text/plain": [
       "<AxesSubplot:xlabel='Age'>"
      ]
     },
     "execution_count": 10,
     "metadata": {},
     "output_type": "execute_result"
    },
    {
     "data": {
      "image/png": "[encoded data removed]",
      "text/plain": [
       "<Figure size 432x288 with 1 Axes>"
      ]
     },
     "metadata": {
      "needs_background": "light"
     },
     "output_type": "display_data"
    }
   ],
   "source": [
    "sns.boxplot(data[\"Age\"])"
   ]
  },
  {
   "cell_type": "code",
   "execution_count": 11,
   "id": "335e8fd3",
   "metadata": {},
   "outputs": [
    {
     "data": {
      "text/plain": [
       "<AxesSubplot:>"
      ]
     },
     "execution_count": 11,
     "metadata": {},
     "output_type": "execute_result"
    },
    {
     "data": {
      "image/png": "[encoded data removed]",
      "text/plain": [
       "<Figure size 432x288 with 4 Axes>"
      ]
     },
     "metadata": {
      "needs_background": "light"
     },
     "output_type": "display_data"
    }
   ],
   "source": [
    "fig, axes = plt.subplots(2,2)\n",
    "sns.boxplot(data=data[\"YearsInCurrentRole\"],ax=axes[0,0])\n",
    "sns.boxplot(data=data[\"YearsSinceLastPromotion\"],ax=axes[0,1])\n",
    "sns.boxplot(data=data[\"YearsWithCurrManager\"],ax=axes[1,0])\n",
    "sns.boxplot(data=data[\"WorkLifeBalance\"],ax=axes[1,1])"
   ]
  },
  {
   "cell_type": "code",
   "execution_count": 12,
   "id": "d00a583f",
   "metadata": {},
   "outputs": [
    {
     "data": {
      "text/plain": [
       "<AxesSubplot:>"
      ]
     },
     "execution_count": 12,
     "metadata": {},
     "output_type": "execute_result"
    },
    {
     "data": {
      "image/png": "[encoded data removed]",
      "text/plain": [
       "<Figure size 432x288 with 4 Axes>"
      ]
     },
     "metadata": {
      "needs_background": "light"
     },
     "output_type": "display_data"
    }
   ],
   "source": [
    "fig, axes = plt.subplots(2,2)\n",
    "sns.boxplot(data=data[\"DistanceFromHome\"],ax=axes[0,0])\n",
    "sns.boxplot(data=data[\"TotalWorkingYears\"],ax=axes[0,1])\n",
    "sns.boxplot(data=data[\"HourlyRate\"],ax=axes[1,0])\n",
    "sns.boxplot(data=data[\"YearsAtCompany\"],ax=axes[1,1])"
   ]
  },
  {
   "cell_type": "markdown",
   "id": "025c952b",
   "metadata": {},
   "source": [
    "# Handling the Outliers"
   ]
  },
  {
   "cell_type": "code",
   "execution_count": 13,
   "id": "8f038d65",
   "metadata": {},
   "outputs": [],
   "source": [
    "YearsInCurrentRole_q1 = data.YearsInCurrentRole.quantile(0.25)\n",
    "YearsInCurrentRole_q3 = data.YearsInCurrentRole.quantile(0.75)\n",
    "IQR_YearsInCurrentRole=YearsInCurrentRole_q3-YearsInCurrentRole_q1\n",
    "upperlimit_YearsInCurrentRole=YearsInCurrentRole_q3+1.5*IQR_YearsInCurrentRole\n",
    "lower_limit_YearsInCurrentRole =YearsInCurrentRole_q1-1.5*IQR_YearsInCurrentRole\n",
    "median_YearsInCurrentRole=data[\"YearsInCurrentRole\"].median()\n",
    "data['YearsInCurrentRole'] = np.where(\n",
    "    (data['YearsInCurrentRole'] > upperlimit_YearsInCurrentRole),\n",
    "    median_YearsInCurrentRole,\n",
    "    data['YearsInCurrentRole']\n",
    ")"
   ]
  },
  {
   "cell_type": "code",
   "execution_count": 14,
   "id": "3264c2dd",
   "metadata": {},
   "outputs": [],
   "source": [
    "YearsSinceLastPromotion_q1 = data.YearsSinceLastPromotion.quantile(0.25)\n",
    "YearsSinceLastPromotion_q3 = data.YearsSinceLastPromotion.quantile(0.75)\n",
    "IQR_YearsSinceLastPromotion=YearsSinceLastPromotion_q3-YearsSinceLastPromotion_q1\n",
    "upperlimit_YearsSinceLastPromotion=YearsSinceLastPromotion_q3+1.5*IQR_YearsSinceLastPromotion\n",
    "lower_limit_YearsSinceLastPromotion =YearsSinceLastPromotion_q1-1.5*IQR_YearsSinceLastPromotion\n",
    "median_YearsSinceLastPromotion=data[\"YearsSinceLastPromotion\"].median()\n",
    "data['YearsSinceLastPromotion'] = np.where(\n",
    "    (data['YearsSinceLastPromotion'] > upperlimit_YearsSinceLastPromotion),\n",
    "    median_YearsSinceLastPromotion,\n",
    "    data['YearsSinceLastPromotion']\n",
    ")"
   ]
  },
  {
   "cell_type": "code",
   "execution_count": 15,
   "id": "776209b5",
   "metadata": {},
   "outputs": [],
   "source": [
    "YearsWithCurrManager_q1 = data.YearsWithCurrManager.quantile(0.25)\n",
    "YearsWithCurrManager_q3 = data.YearsWithCurrManager.quantile(0.75)\n",
    "IQR_YearsWithCurrManager=YearsWithCurrManager_q3-YearsWithCurrManager_q1\n",
    "upperlimit_YearsWithCurrManager=YearsWithCurrManager_q3+1.5*IQR_YearsWithCurrManager\n",
    "lower_limit_YearsWithCurrManager =YearsWithCurrManager_q1-1.5*IQR_YearsWithCurrManager\n",
    "median_YearsWithCurrManager=data[\"YearsWithCurrManager\"].median()\n",
    "data['YearsWithCurrManager'] = np.where(\n",
    "    (data['YearsWithCurrManager'] > upperlimit_YearsWithCurrManager),\n",
    "    median_YearsWithCurrManager,\n",
    "    data['YearsWithCurrManager']\n",
    ")"
   ]
  },
  {
   "cell_type": "code",
   "execution_count": 16,
   "id": "a460322d",
   "metadata": {},
   "outputs": [],
   "source": [
    "TotalWorkingYears_q1 = data.TotalWorkingYears.quantile(0.25)\n",
    "TotalWorkingYears_q3 = data.TotalWorkingYears.quantile(0.75)\n",
    "IQR_TotalWorkingYears=TotalWorkingYears_q3-TotalWorkingYears_q1\n",
    "upperlimit_TotalWorkingYears=TotalWorkingYears_q3+1.5*IQR_TotalWorkingYears\n",
    "lower_limit_TotalWorkingYears=TotalWorkingYears_q1-1.5*IQR_TotalWorkingYears\n",
    "median_TotalWorkingYears=data[\"TotalWorkingYears\"].median()\n",
    "data['TotalWorkingYears'] = np.where(\n",
    "    (data['TotalWorkingYears'] > upperlimit_TotalWorkingYears),\n",
    "    median_TotalWorkingYears,\n",
    "    data['TotalWorkingYears']\n",
    ")"
   ]
  },
  {
   "cell_type": "code",
   "execution_count": 17,
   "id": "fd7863c8",
   "metadata": {},
   "outputs": [],
   "source": [
    "YearsAtCompany_q1 = data.YearsAtCompany.quantile(0.25)\n",
    "YearsAtCompany_q3 = data.YearsAtCompany.quantile(0.75)\n",
    "IQR_YearsAtCompany=YearsAtCompany_q3-YearsAtCompany_q1\n",
    "upperlimit_YearsAtCompany=YearsAtCompany_q3+1.5*IQR_YearsAtCompany\n",
    "lower_limit_YearsAtCompany=YearsAtCompany_q1-1.5*IQR_YearsAtCompany\n",
    "median_YearsAtCompany=data[\"YearsAtCompany\"].median()\n",
    "data['YearsAtCompany'] = np.where(\n",
    "    (data['YearsAtCompany'] > upperlimit_YearsAtCompany),\n",
    "    median_YearsAtCompany,\n",
    "    data['YearsAtCompany']\n",
    ")"
   ]
  },
  {
   "cell_type": "code",
   "execution_count": 18,
   "id": "2023b884",
   "metadata": {},
   "outputs": [
    {
     "data": {
      "text/plain": [
       "<AxesSubplot:>"
      ]
     },
     "execution_count": 18,
     "metadata": {},
     "output_type": "execute_result"
    },
    {
     "data": {
      "image/png": "[encoded data removed]",
      "text/plain": [
       "<Figure size 432x288 with 4 Axes>"
      ]
     },
     "metadata": {
      "needs_background": "light"
     },
     "output_type": "display_data"
    }
   ],
   "source": [
    "fig, axes = plt.subplots(2,2)\n",
    "sns.boxplot(data=data[\"YearsWithCurrManager\"],ax=axes[0,0])\n",
    "sns.boxplot(data=data[\"TotalWorkingYears\"],ax=axes[0,1])\n",
    "sns.boxplot(data=data[\"YearsSinceLastPromotion\"],ax=axes[1,0])\n",
    "sns.boxplot(data=data[\"YearsAtCompany\"],ax=axes[1,1])"
   ]
  },
  {
   "cell_type": "code",
   "execution_count": 19,
   "id": "a3f9cc88",
   "metadata": {},
   "outputs": [],
   "source": [
    "data.drop(\"EducationField\",axis=1,inplace=True)"
   ]
  },
  {
   "cell_type": "code",
   "execution_count": 20,
   "id": "59372df6",
   "metadata": {},
   "outputs": [
    {
     "data": {
      "text/html": [
       "<div>\n",
       "<style scoped>\n",
       "    .dataframe tbody tr th:only-of-type {\n",
       "        vertical-align: middle;\n",
       "    }\n",
       "\n",
       "    .dataframe tbody tr th {\n",
       "        vertical-align: top;\n",
       "    }\n",
       "\n",
       "    .dataframe thead th {\n",
       "        text-align: right;\n",
       "    }\n",
       "</style>\n",
       "<table border=\"1\" class=\"dataframe\">\n",
       "  <thead>\n",
       "    <tr style=\"text-align: right;\">\n",
       "      <th></th>\n",
       "      <th>Age</th>\n",
       "      <th>Attrition</th>\n",
       "      <th>BusinessTravel</th>\n",
       "      <th>DailyRate</th>\n",
       "      <th>Department</th>\n",
       "      <th>DistanceFromHome</th>\n",
       "      <th>Education</th>\n",
       "      <th>EmployeeCount</th>\n",
       "      <th>EmployeeNumber</th>\n",
       "      <th>EnvironmentSatisfaction</th>\n",
       "      <th>...</th>\n",
       "      <th>RelationshipSatisfaction</th>\n",
       "      <th>StandardHours</th>\n",
       "      <th>StockOptionLevel</th>\n",
       "      <th>TotalWorkingYears</th>\n",
       "      <th>TrainingTimesLastYear</th>\n",
       "      <th>WorkLifeBalance</th>\n",
       "      <th>YearsAtCompany</th>\n",
       "      <th>YearsInCurrentRole</th>\n",
       "      <th>YearsSinceLastPromotion</th>\n",
       "      <th>YearsWithCurrManager</th>\n",
       "    </tr>\n",
       "  </thead>\n",
       "  <tbody>\n",
       "    <tr>\n",
       "      <th>0</th>\n",
       "      <td>41</td>\n",
       "      <td>Yes</td>\n",
       "      <td>Travel_Rarely</td>\n",
       "      <td>1102</td>\n",
       "      <td>Sales</td>\n",
       "      <td>1</td>\n",
       "      <td>2</td>\n",
       "      <td>1</td>\n",
       "      <td>1</td>\n",
       "      <td>2</td>\n",
       "      <td>...</td>\n",
       "      <td>1</td>\n",
       "      <td>80</td>\n",
       "      <td>0</td>\n",
       "      <td>8.0</td>\n",
       "      <td>0</td>\n",
       "      <td>1</td>\n",
       "      <td>6.0</td>\n",
       "      <td>4.0</td>\n",
       "      <td>0.0</td>\n",
       "      <td>5.0</td>\n",
       "    </tr>\n",
       "    <tr>\n",
       "      <th>1</th>\n",
       "      <td>49</td>\n",
       "      <td>No</td>\n",
       "      <td>Travel_Frequently</td>\n",
       "      <td>279</td>\n",
       "      <td>Research &amp; Development</td>\n",
       "      <td>8</td>\n",
       "      <td>1</td>\n",
       "      <td>1</td>\n",
       "      <td>2</td>\n",
       "      <td>3</td>\n",
       "      <td>...</td>\n",
       "      <td>4</td>\n",
       "      <td>80</td>\n",
       "      <td>1</td>\n",
       "      <td>10.0</td>\n",
       "      <td>3</td>\n",
       "      <td>3</td>\n",
       "      <td>10.0</td>\n",
       "      <td>7.0</td>\n",
       "      <td>1.0</td>\n",
       "      <td>7.0</td>\n",
       "    </tr>\n",
       "    <tr>\n",
       "      <th>2</th>\n",
       "      <td>37</td>\n",
       "      <td>Yes</td>\n",
       "      <td>Travel_Rarely</td>\n",
       "      <td>1373</td>\n",
       "      <td>Research &amp; Development</td>\n",
       "      <td>2</td>\n",
       "      <td>2</td>\n",
       "      <td>1</td>\n",
       "      <td>4</td>\n",
       "      <td>4</td>\n",
       "      <td>...</td>\n",
       "      <td>2</td>\n",
       "      <td>80</td>\n",
       "      <td>0</td>\n",
       "      <td>7.0</td>\n",
       "      <td>3</td>\n",
       "      <td>3</td>\n",
       "      <td>0.0</td>\n",
       "      <td>0.0</td>\n",
       "      <td>0.0</td>\n",
       "      <td>0.0</td>\n",
       "    </tr>\n",
       "    <tr>\n",
       "      <th>3</th>\n",
       "      <td>33</td>\n",
       "      <td>No</td>\n",
       "      <td>Travel_Frequently</td>\n",
       "      <td>1392</td>\n",
       "      <td>Research &amp; Development</td>\n",
       "      <td>3</td>\n",
       "      <td>4</td>\n",
       "      <td>1</td>\n",
       "      <td>5</td>\n",
       "      <td>4</td>\n",
       "      <td>...</td>\n",
       "      <td>3</td>\n",
       "      <td>80</td>\n",
       "      <td>0</td>\n",
       "      <td>8.0</td>\n",
       "      <td>3</td>\n",
       "      <td>3</td>\n",
       "      <td>8.0</td>\n",
       "      <td>7.0</td>\n",
       "      <td>3.0</td>\n",
       "      <td>0.0</td>\n",
       "    </tr>\n",
       "    <tr>\n",
       "      <th>4</th>\n",
       "      <td>27</td>\n",
       "      <td>No</td>\n",
       "      <td>Travel_Rarely</td>\n",
       "      <td>591</td>\n",
       "      <td>Research &amp; Development</td>\n",
       "      <td>2</td>\n",
       "      <td>1</td>\n",
       "      <td>1</td>\n",
       "      <td>7</td>\n",
       "      <td>1</td>\n",
       "      <td>...</td>\n",
       "      <td>4</td>\n",
       "      <td>80</td>\n",
       "      <td>1</td>\n",
       "      <td>6.0</td>\n",
       "      <td>3</td>\n",
       "      <td>3</td>\n",
       "      <td>2.0</td>\n",
       "      <td>2.0</td>\n",
       "      <td>2.0</td>\n",
       "      <td>2.0</td>\n",
       "    </tr>\n",
       "  </tbody>\n",
       "</table>\n",
       "<p>5 rows × 34 columns</p>\n",
       "</div>"
      ],
      "text/plain": [
       "   Age Attrition     BusinessTravel  DailyRate              Department  \\\n",
       "0   41       Yes      Travel_Rarely       1102                   Sales   \n",
       "1   49        No  Travel_Frequently        279  Research & Development   \n",
       "2   37       Yes      Travel_Rarely       1373  Research & Development   \n",
       "3   33        No  Travel_Frequently       1392  Research & Development   \n",
       "4   27        No      Travel_Rarely        591  Research & Development   \n",
       "\n",
       "   DistanceFromHome  Education  EmployeeCount  EmployeeNumber  \\\n",
       "0                 1          2              1               1   \n",
       "1                 8          1              1               2   \n",
       "2                 2          2              1               4   \n",
       "3                 3          4              1               5   \n",
       "4                 2          1              1               7   \n",
       "\n",
       "   EnvironmentSatisfaction  ... RelationshipSatisfaction  StandardHours  \\\n",
       "0                        2  ...                        1             80   \n",
       "1                        3  ...                        4             80   \n",
       "2                        4  ...                        2             80   \n",
       "3                        4  ...                        3             80   \n",
       "4                        1  ...                        4             80   \n",
       "\n",
       "   StockOptionLevel  TotalWorkingYears TrainingTimesLastYear  WorkLifeBalance  \\\n",
       "0                 0                8.0                     0                1   \n",
       "1                 1               10.0                     3                3   \n",
       "2                 0                7.0                     3                3   \n",
       "3                 0                8.0                     3                3   \n",
       "4                 1                6.0                     3                3   \n",
       "\n",
       "  YearsAtCompany  YearsInCurrentRole  YearsSinceLastPromotion  \\\n",
       "0            6.0                 4.0                      0.0   \n",
       "1           10.0                 7.0                      1.0   \n",
       "2            0.0                 0.0                      0.0   \n",
       "3            8.0                 7.0                      3.0   \n",
       "4            2.0                 2.0                      2.0   \n",
       "\n",
       "   YearsWithCurrManager  \n",
       "0                   5.0  \n",
       "1                   7.0  \n",
       "2                   0.0  \n",
       "3                   0.0  \n",
       "4                   2.0  \n",
       "\n",
       "[5 rows x 34 columns]"
      ]
     },
     "execution_count": 20,
     "metadata": {},
     "output_type": "execute_result"
    }
   ],
   "source": [
    "data.head()"
   ]
  },
  {
   "cell_type": "code",
   "execution_count": 21,
   "id": "aa38b120",
   "metadata": {},
   "outputs": [
    {
     "data": {
      "text/plain": [
       "array(['Travel_Rarely', 'Travel_Frequently', 'Non-Travel'], dtype=object)"
      ]
     },
     "execution_count": 21,
     "metadata": {},
     "output_type": "execute_result"
    }
   ],
   "source": [
    "data[\"BusinessTravel\"].unique()"
   ]
  },
  {
   "cell_type": "markdown",
   "id": "59c6e677",
   "metadata": {},
   "source": [
    "# Splitting the data"
   ]
  },
  {
   "cell_type": "code",
   "execution_count": 22,
   "id": "73c131ec",
   "metadata": {},
   "outputs": [],
   "source": [
    "y=data[\"Attrition\"]"
   ]
  },
  {
   "cell_type": "code",
   "execution_count": 23,
   "id": "6835cd5f",
   "metadata": {},
   "outputs": [
    {
     "data": {
      "text/plain": [
       "0    Yes\n",
       "1     No\n",
       "2    Yes\n",
       "3     No\n",
       "4     No\n",
       "Name: Attrition, dtype: object"
      ]
     },
     "execution_count": 23,
     "metadata": {},
     "output_type": "execute_result"
    }
   ],
   "source": [
    "y.head()"
   ]
  },
  {
   "cell_type": "code",
   "execution_count": 24,
   "id": "d5f768e3",
   "metadata": {},
   "outputs": [],
   "source": [
    "data.drop(\"Attrition\",axis=1,inplace=True)"
   ]
  },
  {
   "cell_type": "code",
   "execution_count": 25,
   "id": "7690f52b",
   "metadata": {},
   "outputs": [
    {
     "data": {
      "text/html": [
       "<div>\n",
       "<style scoped>\n",
       "    .dataframe tbody tr th:only-of-type {\n",
       "        vertical-align: middle;\n",
       "    }\n",
       "\n",
       "    .dataframe tbody tr th {\n",
       "        vertical-align: top;\n",
       "    }\n",
       "\n",
       "    .dataframe thead th {\n",
       "        text-align: right;\n",
       "    }\n",
       "</style>\n",
       "<table border=\"1\" class=\"dataframe\">\n",
       "  <thead>\n",
       "    <tr style=\"text-align: right;\">\n",
       "      <th></th>\n",
       "      <th>Age</th>\n",
       "      <th>BusinessTravel</th>\n",
       "      <th>DailyRate</th>\n",
       "      <th>Department</th>\n",
       "      <th>DistanceFromHome</th>\n",
       "      <th>Education</th>\n",
       "      <th>EmployeeCount</th>\n",
       "      <th>EmployeeNumber</th>\n",
       "      <th>EnvironmentSatisfaction</th>\n",
       "      <th>Gender</th>\n",
       "      <th>...</th>\n",
       "      <th>RelationshipSatisfaction</th>\n",
       "      <th>StandardHours</th>\n",
       "      <th>StockOptionLevel</th>\n",
       "      <th>TotalWorkingYears</th>\n",
       "      <th>TrainingTimesLastYear</th>\n",
       "      <th>WorkLifeBalance</th>\n",
       "      <th>YearsAtCompany</th>\n",
       "      <th>YearsInCurrentRole</th>\n",
       "      <th>YearsSinceLastPromotion</th>\n",
       "      <th>YearsWithCurrManager</th>\n",
       "    </tr>\n",
       "  </thead>\n",
       "  <tbody>\n",
       "    <tr>\n",
       "      <th>0</th>\n",
       "      <td>41</td>\n",
       "      <td>Travel_Rarely</td>\n",
       "      <td>1102</td>\n",
       "      <td>Sales</td>\n",
       "      <td>1</td>\n",
       "      <td>2</td>\n",
       "      <td>1</td>\n",
       "      <td>1</td>\n",
       "      <td>2</td>\n",
       "      <td>Female</td>\n",
       "      <td>...</td>\n",
       "      <td>1</td>\n",
       "      <td>80</td>\n",
       "      <td>0</td>\n",
       "      <td>8.0</td>\n",
       "      <td>0</td>\n",
       "      <td>1</td>\n",
       "      <td>6.0</td>\n",
       "      <td>4.0</td>\n",
       "      <td>0.0</td>\n",
       "      <td>5.0</td>\n",
       "    </tr>\n",
       "    <tr>\n",
       "      <th>1</th>\n",
       "      <td>49</td>\n",
       "      <td>Travel_Frequently</td>\n",
       "      <td>279</td>\n",
       "      <td>Research &amp; Development</td>\n",
       "      <td>8</td>\n",
       "      <td>1</td>\n",
       "      <td>1</td>\n",
       "      <td>2</td>\n",
       "      <td>3</td>\n",
       "      <td>Male</td>\n",
       "      <td>...</td>\n",
       "      <td>4</td>\n",
       "      <td>80</td>\n",
       "      <td>1</td>\n",
       "      <td>10.0</td>\n",
       "      <td>3</td>\n",
       "      <td>3</td>\n",
       "      <td>10.0</td>\n",
       "      <td>7.0</td>\n",
       "      <td>1.0</td>\n",
       "      <td>7.0</td>\n",
       "    </tr>\n",
       "    <tr>\n",
       "      <th>2</th>\n",
       "      <td>37</td>\n",
       "      <td>Travel_Rarely</td>\n",
       "      <td>1373</td>\n",
       "      <td>Research &amp; Development</td>\n",
       "      <td>2</td>\n",
       "      <td>2</td>\n",
       "      <td>1</td>\n",
       "      <td>4</td>\n",
       "      <td>4</td>\n",
       "      <td>Male</td>\n",
       "      <td>...</td>\n",
       "      <td>2</td>\n",
       "      <td>80</td>\n",
       "      <td>0</td>\n",
       "      <td>7.0</td>\n",
       "      <td>3</td>\n",
       "      <td>3</td>\n",
       "      <td>0.0</td>\n",
       "      <td>0.0</td>\n",
       "      <td>0.0</td>\n",
       "      <td>0.0</td>\n",
       "    </tr>\n",
       "    <tr>\n",
       "      <th>3</th>\n",
       "      <td>33</td>\n",
       "      <td>Travel_Frequently</td>\n",
       "      <td>1392</td>\n",
       "      <td>Research &amp; Development</td>\n",
       "      <td>3</td>\n",
       "      <td>4</td>\n",
       "      <td>1</td>\n",
       "      <td>5</td>\n",
       "      <td>4</td>\n",
       "      <td>Female</td>\n",
       "      <td>...</td>\n",
       "      <td>3</td>\n",
       "      <td>80</td>\n",
       "      <td>0</td>\n",
       "      <td>8.0</td>\n",
       "      <td>3</td>\n",
       "      <td>3</td>\n",
       "      <td>8.0</td>\n",
       "      <td>7.0</td>\n",
       "      <td>3.0</td>\n",
       "      <td>0.0</td>\n",
       "    </tr>\n",
       "    <tr>\n",
       "      <th>4</th>\n",
       "      <td>27</td>\n",
       "      <td>Travel_Rarely</td>\n",
       "      <td>591</td>\n",
       "      <td>Research &amp; Development</td>\n",
       "      <td>2</td>\n",
       "      <td>1</td>\n",
       "      <td>1</td>\n",
       "      <td>7</td>\n",
       "      <td>1</td>\n",
       "      <td>Male</td>\n",
       "      <td>...</td>\n",
       "      <td>4</td>\n",
       "      <td>80</td>\n",
       "      <td>1</td>\n",
       "      <td>6.0</td>\n",
       "      <td>3</td>\n",
       "      <td>3</td>\n",
       "      <td>2.0</td>\n",
       "      <td>2.0</td>\n",
       "      <td>2.0</td>\n",
       "      <td>2.0</td>\n",
       "    </tr>\n",
       "  </tbody>\n",
       "</table>\n",
       "<p>5 rows × 33 columns</p>\n",
       "</div>"
      ],
      "text/plain": [
       "   Age     BusinessTravel  DailyRate              Department  \\\n",
       "0   41      Travel_Rarely       1102                   Sales   \n",
       "1   49  Travel_Frequently        279  Research & Development   \n",
       "2   37      Travel_Rarely       1373  Research & Development   \n",
       "3   33  Travel_Frequently       1392  Research & Development   \n",
       "4   27      Travel_Rarely        591  Research & Development   \n",
       "\n",
       "   DistanceFromHome  Education  EmployeeCount  EmployeeNumber  \\\n",
       "0                 1          2              1               1   \n",
       "1                 8          1              1               2   \n",
       "2                 2          2              1               4   \n",
       "3                 3          4              1               5   \n",
       "4                 2          1              1               7   \n",
       "\n",
       "   EnvironmentSatisfaction  Gender  ...  RelationshipSatisfaction  \\\n",
       "0                        2  Female  ...                         1   \n",
       "1                        3    Male  ...                         4   \n",
       "2                        4    Male  ...                         2   \n",
       "3                        4  Female  ...                         3   \n",
       "4                        1    Male  ...                         4   \n",
       "\n",
       "   StandardHours  StockOptionLevel TotalWorkingYears  TrainingTimesLastYear  \\\n",
       "0             80                 0               8.0                      0   \n",
       "1             80                 1              10.0                      3   \n",
       "2             80                 0               7.0                      3   \n",
       "3             80                 0               8.0                      3   \n",
       "4             80                 1               6.0                      3   \n",
       "\n",
       "  WorkLifeBalance  YearsAtCompany  YearsInCurrentRole  \\\n",
       "0               1             6.0                 4.0   \n",
       "1               3            10.0                 7.0   \n",
       "2               3             0.0                 0.0   \n",
       "3               3             8.0                 7.0   \n",
       "4               3             2.0                 2.0   \n",
       "\n",
       "   YearsSinceLastPromotion YearsWithCurrManager  \n",
       "0                      0.0                  5.0  \n",
       "1                      1.0                  7.0  \n",
       "2                      0.0                  0.0  \n",
       "3                      3.0                  0.0  \n",
       "4                      2.0                  2.0  \n",
       "\n",
       "[5 rows x 33 columns]"
      ]
     },
     "execution_count": 25,
     "metadata": {},
     "output_type": "execute_result"
    }
   ],
   "source": [
    "data.head()"
   ]
  },
  {
   "cell_type": "markdown",
   "id": "8c3007eb",
   "metadata": {},
   "source": [
    "# Encoding"
   ]
  },
  {
   "cell_type": "code",
   "execution_count": 26,
   "id": "0ab002cf",
   "metadata": {},
   "outputs": [],
   "source": [
    "from sklearn.preprocessing import LabelEncoder"
   ]
  },
  {
   "cell_type": "code",
   "execution_count": 27,
   "id": "167216e1",
   "metadata": {},
   "outputs": [],
   "source": [
    "le=LabelEncoder()"
   ]
  },
  {
   "cell_type": "code",
   "execution_count": 28,
   "id": "2a2b2a8b",
   "metadata": {},
   "outputs": [],
   "source": [
    "data[\"BusinessTravel\"]=le.fit_transform(data[\"BusinessTravel\"])"
   ]
  },
  {
   "cell_type": "code",
   "execution_count": 29,
   "id": "025d0b86",
   "metadata": {},
   "outputs": [],
   "source": [
    "data[\"Department\"]=le.fit_transform(data[\"Department\"])"
   ]
  },
  {
   "cell_type": "code",
   "execution_count": 30,
   "id": "5fe4c5c2",
   "metadata": {},
   "outputs": [],
   "source": [
    "data[\"Gender\"]=le.fit_transform(data[\"Gender\"])"
   ]
  },
  {
   "cell_type": "code",
   "execution_count": 31,
   "id": "b001abdf",
   "metadata": {},
   "outputs": [],
   "source": [
    "y=le.fit_transform(y)"
   ]
  },
  {
   "cell_type": "code",
   "execution_count": 32,
   "id": "c7dea15e",
   "metadata": {},
   "outputs": [
    {
     "data": {
      "text/plain": [
       "array([1, 0, 1, ..., 0, 0, 0])"
      ]
     },
     "execution_count": 32,
     "metadata": {},
     "output_type": "execute_result"
    }
   ],
   "source": [
    "y"
   ]
  },
  {
   "cell_type": "code",
   "execution_count": 33,
   "id": "b6928f61",
   "metadata": {},
   "outputs": [],
   "source": [
    "data[\"JobRole\"]=le.fit_transform(data[\"JobRole\"])"
   ]
  },
  {
   "cell_type": "code",
   "execution_count": 34,
   "id": "0512deed",
   "metadata": {},
   "outputs": [],
   "source": [
    "data[\"Over18\"]=le.fit_transform(data[\"Over18\"])"
   ]
  },
  {
   "cell_type": "code",
   "execution_count": 35,
   "id": "7c9a57bd",
   "metadata": {},
   "outputs": [],
   "source": [
    "data[\"MaritalStatus\"]=le.fit_transform(data[\"MaritalStatus\"])"
   ]
  },
  {
   "cell_type": "code",
   "execution_count": 36,
   "id": "c1f4d26a",
   "metadata": {},
   "outputs": [],
   "source": [
    "data[\"OverTime\"]=le.fit_transform(data[\"OverTime\"])"
   ]
  },
  {
   "cell_type": "code",
   "execution_count": 37,
   "id": "b607a2fb",
   "metadata": {},
   "outputs": [
    {
     "name": "stdout",
     "output_type": "stream",
     "text": [
      "<class 'pandas.core.frame.DataFrame'>\n",
      "RangeIndex: 1470 entries, 0 to 1469\n",
      "Data columns (total 33 columns):\n",
      " #   Column                    Non-Null Count  Dtype  \n",
      "---  ------                    --------------  -----  \n",
      " 0   Age                       1470 non-null   int64  \n",
      " 1   BusinessTravel            1470 non-null   int32  \n",
      " 2   DailyRate                 1470 non-null   int64  \n",
      " 3   Department                1470 non-null   int32  \n",
      " 4   DistanceFromHome          1470 non-null   int64  \n",
      " 5   Education                 1470 non-null   int64  \n",
      " 6   EmployeeCount             1470 non-null   int64  \n",
      " 7   EmployeeNumber            1470 non-null   int64  \n",
      " 8   EnvironmentSatisfaction   1470 non-null   int64  \n",
      " 9   Gender                    1470 non-null   int32  \n",
      " 10  HourlyRate                1470 non-null   int64  \n",
      " 11  JobInvolvement            1470 non-null   int64  \n",
      " 12  JobLevel                  1470 non-null   int64  \n",
      " 13  JobRole                   1470 non-null   int32  \n",
      " 14  JobSatisfaction           1470 non-null   int64  \n",
      " 15  MaritalStatus             1470 non-null   int32  \n",
      " 16  MonthlyIncome             1470 non-null   int64  \n",
      " 17  MonthlyRate               1470 non-null   int64  \n",
      " 18  NumCompaniesWorked        1470 non-null   int64  \n",
      " 19  Over18                    1470 non-null   int32  \n",
      " 20  OverTime                  1470 non-null   int32  \n",
      " 21  PercentSalaryHike         1470 non-null   int64  \n",
      " 22  PerformanceRating         1470 non-null   int64  \n",
      " 23  RelationshipSatisfaction  1470 non-null   int64  \n",
      " 24  StandardHours             1470 non-null   int64  \n",
      " 25  StockOptionLevel          1470 non-null   int64  \n",
      " 26  TotalWorkingYears         1470 non-null   float64\n",
      " 27  TrainingTimesLastYear     1470 non-null   int64  \n",
      " 28  WorkLifeBalance           1470 non-null   int64  \n",
      " 29  YearsAtCompany            1470 non-null   float64\n",
      " 30  YearsInCurrentRole        1470 non-null   float64\n",
      " 31  YearsSinceLastPromotion   1470 non-null   float64\n",
      " 32  YearsWithCurrManager      1470 non-null   float64\n",
      "dtypes: float64(5), int32(7), int64(21)\n",
      "memory usage: 338.9 KB\n"
     ]
    }
   ],
   "source": [
    "data.info()"
   ]
  },
  {
   "cell_type": "markdown",
   "id": "2bb5cf31",
   "metadata": {},
   "source": [
    "# Splitting into testing and training"
   ]
  },
  {
   "cell_type": "code",
   "execution_count": 38,
   "id": "79ee2990",
   "metadata": {},
   "outputs": [],
   "source": [
    "from sklearn.model_selection import train_test_split\n",
    "x_train,x_test,y_train,y_test=train_test_split(data,y,test_size=0.3,random_state=0)"
   ]
  },
  {
   "cell_type": "code",
   "execution_count": 39,
   "id": "a7a485cd",
   "metadata": {},
   "outputs": [
    {
     "data": {
      "text/plain": [
       "((1029, 33), (441, 33), (1029,), (441,))"
      ]
     },
     "execution_count": 39,
     "metadata": {},
     "output_type": "execute_result"
    }
   ],
   "source": [
    "x_train.shape,x_test.shape,y_train.shape,y_test.shape"
   ]
  },
  {
   "cell_type": "markdown",
   "id": "ab71a3ab",
   "metadata": {},
   "source": [
    "# Feature scaling "
   ]
  },
  {
   "cell_type": "code",
   "execution_count": 40,
   "id": "be405d7e",
   "metadata": {},
   "outputs": [],
   "source": [
    "from sklearn.preprocessing import StandardScaler"
   ]
  },
  {
   "cell_type": "code",
   "execution_count": 41,
   "id": "52880b70",
   "metadata": {},
   "outputs": [],
   "source": [
    "sc=StandardScaler()"
   ]
  },
  {
   "cell_type": "code",
   "execution_count": 42,
   "id": "9e0a3c38",
   "metadata": {},
   "outputs": [],
   "source": [
    "x_train=sc.fit_transform(x_train)"
   ]
  },
  {
   "cell_type": "code",
   "execution_count": 43,
   "id": "6eaf06f2",
   "metadata": {},
   "outputs": [],
   "source": [
    "x_test=sc.fit_transform(x_test)"
   ]
  },
  {
   "cell_type": "markdown",
   "id": "7d4f66d8",
   "metadata": {},
   "source": [
    "# Building our model"
   ]
  },
  {
   "cell_type": "raw",
   "id": "a4815523",
   "metadata": {},
   "source": [
    "Multi Linear Regression"
   ]
  },
  {
   "cell_type": "code",
   "execution_count": 44,
   "id": "b0bbc5e4",
   "metadata": {},
   "outputs": [],
   "source": [
    "from sklearn.linear_model import LinearRegression"
   ]
  },
  {
   "cell_type": "code",
   "execution_count": 45,
   "id": "88cea43f",
   "metadata": {},
   "outputs": [],
   "source": [
    "lr = LinearRegression()"
   ]
  },
  {
   "cell_type": "code",
   "execution_count": 46,
   "id": "37522c2f",
   "metadata": {},
   "outputs": [
    {
     "data": {
      "text/plain": [
       "LinearRegression()"
      ]
     },
     "execution_count": 46,
     "metadata": {},
     "output_type": "execute_result"
    }
   ],
   "source": [
    "lr.fit(x_train,y_train)"
   ]
  },
  {
   "cell_type": "code",
   "execution_count": 47,
   "id": "a063ccbb",
   "metadata": {},
   "outputs": [
    {
     "data": {
      "text/plain": [
       "array([-3.54940447e-02,  7.88352347e-05, -1.70825038e-02,  3.46389690e-02,\n",
       "        2.44612841e-02,  3.65668214e-03,  4.16333634e-17, -9.46820520e-03,\n",
       "       -4.11203734e-02,  1.06338881e-02, -2.97662154e-03, -3.84864283e-02,\n",
       "       -1.52927977e-02, -1.57839139e-02, -3.67252862e-02,  3.35765928e-02,\n",
       "       -5.90043558e-03,  5.81099165e-03,  3.78471890e-02, -6.93889390e-18,\n",
       "        9.55263279e-02, -2.55800078e-02,  2.01844797e-02, -2.64773510e-02,\n",
       "       -1.21430643e-17, -1.79286106e-02, -3.30529386e-02, -1.09247807e-02,\n",
       "       -3.10631611e-02, -2.47887717e-02, -1.10177742e-02,  2.11897289e-02,\n",
       "       -6.60823991e-03])"
      ]
     },
     "execution_count": 47,
     "metadata": {},
     "output_type": "execute_result"
    }
   ],
   "source": [
    "lr.coef_ "
   ]
  },
  {
   "cell_type": "code",
   "execution_count": 48,
   "id": "4c7ea615",
   "metadata": {},
   "outputs": [
    {
     "data": {
      "text/plain": [
       "0.16229348882410102"
      ]
     },
     "execution_count": 48,
     "metadata": {},
     "output_type": "execute_result"
    }
   ],
   "source": [
    "lr.intercept_  #(c)"
   ]
  },
  {
   "cell_type": "code",
   "execution_count": 49,
   "id": "eaefe369",
   "metadata": {},
   "outputs": [],
   "source": [
    "y_pred = lr.predict(x_test)"
   ]
  },
  {
   "cell_type": "code",
   "execution_count": 50,
   "id": "8e063a37",
   "metadata": {},
   "outputs": [
    {
     "data": {
      "text/plain": [
       "array([ 1.30302477e-01,  2.17626230e-01,  3.46282415e-01,  5.41382549e-03,\n",
       "        4.99292896e-01,  1.01628868e-01,  3.44742777e-01,  1.23994945e-01,\n",
       "       -1.60694945e-01,  4.02435622e-01,  1.44159172e-01,  2.67416840e-01,\n",
       "       -4.62559536e-02,  5.58671849e-01,  2.81858700e-01,  1.53537792e-02,\n",
       "        1.78573363e-01,  2.77532834e-01,  9.37121052e-02,  2.17571624e-01,\n",
       "        2.65936178e-01,  1.41499184e-02,  8.36251186e-02,  9.58849826e-02,\n",
       "        5.09869963e-01,  2.94764240e-01,  7.85819529e-02,  1.26647773e-01,\n",
       "        5.05518902e-01,  8.48456917e-02, -7.97229275e-02,  2.15516993e-02,\n",
       "        1.08079105e-01,  3.65998400e-01,  1.24517362e-01,  5.13682786e-02,\n",
       "        1.06749689e-01,  6.07640778e-02,  6.66425313e-02,  4.81312859e-02,\n",
       "       -1.16761425e-02, -2.97852924e-02,  5.25135582e-02, -1.59076817e-02,\n",
       "       -1.71522795e-02,  4.17777714e-01,  3.67341564e-01, -2.14569245e-01,\n",
       "        5.47964121e-01,  4.40723777e-01,  1.96701754e-01,  4.42415223e-01,\n",
       "        1.45760263e-01,  3.75821843e-01,  4.92762622e-01,  2.95885645e-01,\n",
       "       -4.62363391e-02,  3.16337190e-01, -7.90813313e-03,  2.52644685e-01,\n",
       "       -3.18239329e-02,  2.83907645e-01,  9.03615010e-02,  1.26934391e-01,\n",
       "        3.58670014e-01,  2.40923530e-02,  3.55890111e-01,  1.95961225e-01,\n",
       "        1.28554515e-01,  1.18806226e-01, -2.86217094e-02,  3.17635336e-01,\n",
       "        1.08017895e-01,  1.25723940e-01,  2.30183307e-01,  9.84315444e-02,\n",
       "        9.10911969e-02,  2.72901425e-01,  2.52029723e-01,  4.09210759e-02,\n",
       "       -9.10277454e-02, -1.08769544e-02,  1.94114970e-01, -2.25933708e-02,\n",
       "       -1.73984898e-02,  1.15587264e-01,  8.36037575e-02,  2.82744685e-03,\n",
       "        4.96507732e-02,  2.41862504e-01,  3.14048594e-01,  2.26261102e-01,\n",
       "        3.30118359e-01,  2.38527777e-01, -2.16338946e-02,  2.26553579e-01,\n",
       "        3.01400098e-01,  2.98806055e-01,  9.89137248e-02,  8.90108718e-02,\n",
       "        2.86485256e-01,  5.00403045e-01,  3.03125892e-01, -4.87373316e-03,\n",
       "        1.71527163e-01, -5.37529492e-03,  2.54338027e-02,  2.15725447e-01,\n",
       "        6.00786752e-02,  1.64813384e-01,  1.09106397e-01,  1.08287462e-01,\n",
       "       -3.09499535e-02,  1.96828572e-01,  9.71193504e-02,  3.19061388e-02,\n",
       "        1.07934574e-01,  2.33635162e-01, -8.52754375e-02, -7.69198906e-02,\n",
       "        2.00624349e-01,  3.35600477e-02,  1.28249663e-01,  6.03012321e-01,\n",
       "        5.78155766e-03, -3.07808886e-02, -1.45938525e-01,  2.19398082e-01,\n",
       "        2.76229397e-01,  1.67698116e-01, -2.88123044e-03,  2.62341213e-01,\n",
       "        4.41290897e-01,  3.95975088e-01,  1.70004873e-01,  4.18305270e-01,\n",
       "        4.90462749e-01,  2.02777466e-01,  1.57881421e-01,  3.60759061e-01,\n",
       "        2.26021266e-01,  1.45366468e-01,  2.13509469e-01,  2.67909863e-01,\n",
       "        3.12986724e-01, -8.02842312e-04,  1.49216491e-01, -1.34599710e-01,\n",
       "        2.08537425e-01,  2.79887773e-01,  1.16637429e-01,  2.74165030e-01,\n",
       "        5.51651427e-02,  3.41585144e-01,  1.70439326e-01, -7.99466715e-06,\n",
       "       -4.10384806e-02,  1.34296605e-01, -1.03707555e-01, -5.60163735e-02,\n",
       "        3.36748074e-01, -9.48504896e-02,  2.11704189e-01,  6.18083877e-01,\n",
       "        2.03467623e-01,  3.04552682e-01,  1.81990599e-01,  1.84838109e-01,\n",
       "       -3.51278477e-03, -8.95239598e-02,  4.14367926e-02,  1.31087001e-01,\n",
       "        1.73558095e-01,  1.58265827e-01, -8.67210631e-02,  1.87726385e-01,\n",
       "        1.99929237e-01,  1.82109241e-01,  1.03646411e-01,  1.91244072e-01,\n",
       "        2.59558194e-03,  1.94666775e-01, -6.08132432e-02,  5.85376580e-01,\n",
       "        6.66728668e-02,  4.49620331e-02,  3.30502696e-01,  9.74393000e-02,\n",
       "        5.51447175e-01,  1.52212203e-01,  3.58819339e-01,  3.66371593e-01,\n",
       "        2.47091987e-01,  5.86970935e-02,  1.28678988e-01,  2.80584025e-01,\n",
       "        7.21059443e-02, -8.07006907e-02,  3.39791632e-01,  8.25270203e-02,\n",
       "        2.20338157e-01,  2.47703594e-01,  4.97067397e-01,  1.36010592e-01,\n",
       "        2.88153807e-01,  4.61306498e-02,  4.52544344e-01, -8.24037634e-02,\n",
       "        2.26796295e-01,  1.42129836e-02,  1.62111340e-01,  2.32246950e-01,\n",
       "        9.12503556e-02,  1.18866795e-01,  2.12735292e-01, -2.69559828e-02,\n",
       "        4.53611463e-02,  1.09618223e-01,  2.64436901e-02,  2.32180310e-01,\n",
       "        1.63285101e-01,  2.42669261e-01,  5.44757533e-01,  1.25881866e-01,\n",
       "        3.69790740e-01, -8.06922880e-02,  1.41602350e-01,  2.86556696e-01,\n",
       "        3.14270745e-01,  1.31598745e-02, -3.56345942e-02,  3.52829749e-01,\n",
       "        1.02471015e-01, -2.94842589e-02,  2.57263086e-01,  3.45463501e-01,\n",
       "        2.95912601e-01, -1.38481386e-01,  1.39636723e-01, -8.70051183e-03,\n",
       "        2.17465256e-01,  2.93583931e-01,  6.93712202e-02,  3.06337299e-01,\n",
       "        7.14844408e-02,  2.70630586e-02,  4.05512634e-01,  3.33607408e-01,\n",
       "        2.35671783e-03,  2.58266642e-01,  3.28293834e-01,  3.94701029e-01,\n",
       "        5.53232045e-01,  8.24575153e-02,  2.60944796e-01,  1.00753288e-01,\n",
       "        1.17357357e-02,  5.30783755e-01,  3.34968808e-01,  3.45523339e-01,\n",
       "        3.76281748e-01,  5.21936641e-02,  2.44296627e-01,  1.32761428e-01,\n",
       "        1.44137632e-01,  1.36122719e-01, -1.50213908e-01,  3.08890370e-01,\n",
       "        4.13235863e-01,  1.22281664e-01,  1.68280274e-01, -2.76779470e-02,\n",
       "        1.98539478e-01,  8.16150794e-02, -5.55975856e-02,  3.32714819e-02,\n",
       "        1.75976835e-01,  3.52080081e-01,  3.23931239e-01,  2.91336298e-01,\n",
       "        2.80094379e-01, -7.13513228e-02,  1.84517461e-01,  2.02965882e-01,\n",
       "        1.85810057e-01,  2.53361102e-01, -1.32535327e-01,  2.80650525e-01,\n",
       "       -1.30523540e-01,  1.68946256e-02,  2.95502669e-01,  6.09961123e-01,\n",
       "        1.20850048e-01,  2.99264202e-01,  2.47516030e-01, -1.59794079e-02,\n",
       "        3.11830741e-01,  2.55878748e-01,  5.64831824e-01, -8.48534911e-02,\n",
       "        2.27251205e-01,  1.35034035e-01,  1.83392922e-01,  2.67565441e-02,\n",
       "        1.04636218e-01,  1.31700032e-01,  2.07655641e-01,  3.32733438e-01,\n",
       "       -2.01238580e-01, -9.51544438e-02,  4.94665237e-02, -7.32543548e-03,\n",
       "        2.09656376e-01,  2.75173006e-01,  2.27685889e-01,  2.80495892e-01,\n",
       "        2.36503496e-01,  7.47322815e-02,  1.20343079e-01, -1.10102575e-02,\n",
       "        2.66505865e-01,  1.34380235e-01,  3.83985037e-01,  3.27038149e-01,\n",
       "        1.92718914e-01,  1.38040637e-01,  3.13471437e-01,  3.03369774e-01,\n",
       "       -1.79198125e-01,  1.06960652e-01, -3.23223785e-03,  3.45401694e-01,\n",
       "        1.36157048e-01,  3.82744300e-01,  2.46142802e-01, -1.70015194e-01,\n",
       "        2.55048994e-01, -2.28290648e-01,  3.36992530e-01,  1.49968922e-01,\n",
       "        1.17049406e-01,  4.83890032e-01,  1.46067187e-01,  4.18288393e-01,\n",
       "        1.16743641e-01,  9.56873703e-03,  2.34800404e-01,  1.36313424e-01,\n",
       "        7.74987760e-03,  2.34345722e-01,  6.10723706e-02,  3.41757613e-01,\n",
       "        1.59047657e-01,  9.67999468e-02,  2.32540380e-01, -8.19460772e-02,\n",
       "        1.93362458e-01,  1.91174979e-01, -6.58901852e-03,  2.65125211e-01,\n",
       "       -2.67132109e-01, -3.75025206e-02,  1.82935564e-01,  1.80163736e-02,\n",
       "        1.97392018e-01,  2.06959344e-01, -1.09857091e-01,  3.54059406e-01,\n",
       "        7.26868239e-02,  2.36653676e-01, -8.20686416e-02,  3.20816139e-01,\n",
       "        1.60355866e-02,  2.39463166e-01,  3.15828470e-01,  1.23580438e-01,\n",
       "        8.23103381e-03,  9.37109487e-02,  4.76095644e-01, -5.67913774e-02,\n",
       "        3.21054350e-01,  1.87697945e-02,  1.84780396e-01,  2.15401165e-01,\n",
       "       -2.02255818e-01,  2.52065992e-01, -1.51719947e-01,  3.50282752e-01,\n",
       "       -9.84668529e-02,  2.14753151e-01,  2.46151971e-02,  2.09633480e-01,\n",
       "        9.48374386e-02,  3.12075361e-01,  4.06959059e-01, -2.26761393e-02,\n",
       "        7.65002089e-02,  3.06988986e-01,  4.37484499e-02,  1.09186169e-01,\n",
       "        4.21237022e-01,  1.49225126e-01,  4.45704191e-02,  3.37793947e-02,\n",
       "        9.97831984e-02, -5.30137196e-02,  3.47224412e-01,  1.03944090e-01,\n",
       "       -4.09963236e-02, -5.78838569e-02,  3.09525724e-01,  1.02060488e-01,\n",
       "        2.09447907e-01,  4.10525192e-01,  3.33473319e-01,  1.80971041e-01,\n",
       "        2.76792072e-01,  2.86132531e-01,  2.62476320e-01, -1.83021903e-02,\n",
       "        2.36094900e-01,  1.54018489e-01,  6.36220924e-02,  6.18224799e-03,\n",
       "        1.85057193e-02,  7.69476922e-02,  1.34623859e-01,  1.87169316e-01,\n",
       "        2.36666289e-01, -1.82114662e-01,  2.98547908e-01,  1.73398527e-01,\n",
       "       -8.87118635e-02,  3.51838607e-02,  1.35598577e-01,  1.70085191e-01,\n",
       "        1.69932034e-01,  2.29056852e-01,  2.15573570e-01,  1.04403736e-01,\n",
       "       -8.21467550e-02])"
      ]
     },
     "execution_count": 50,
     "metadata": {},
     "output_type": "execute_result"
    }
   ],
   "source": [
    "y_pred"
   ]
  },
  {
   "cell_type": "code",
   "execution_count": 51,
   "id": "e102a0fc",
   "metadata": {},
   "outputs": [
    {
     "data": {
      "text/plain": [
       "array([0, 0, 1, 0, 1, 0, 1, 0, 0, 1, 0, 1, 0, 1, 0, 0, 0, 1, 0, 0, 0, 0,\n",
       "       0, 0, 0, 0, 0, 0, 0, 0, 0, 0, 0, 1, 0, 0, 0, 0, 1, 0, 0, 0, 0, 0,\n",
       "       0, 1, 0, 0, 1, 1, 0, 1, 0, 0, 1, 0, 0, 1, 0, 0, 0, 0, 0, 0, 0, 0,\n",
       "       1, 1, 0, 1, 0, 0, 0, 0, 0, 0, 0, 0, 1, 0, 0, 0, 0, 0, 0, 0, 0, 0,\n",
       "       0, 0, 0, 0, 0, 0, 0, 0, 0, 0, 0, 0, 1, 1, 0, 0, 0, 0, 0, 0, 0, 0,\n",
       "       0, 0, 0, 0, 0, 0, 0, 0, 0, 0, 0, 0, 0, 1, 0, 0, 0, 0, 0, 0, 0, 1,\n",
       "       1, 0, 0, 0, 1, 0, 0, 0, 0, 0, 0, 0, 0, 1, 0, 0, 1, 0, 0, 0, 0, 1,\n",
       "       0, 0, 0, 0, 0, 0, 1, 0, 0, 1, 0, 0, 0, 0, 0, 0, 0, 1, 0, 0, 1, 0,\n",
       "       0, 0, 0, 0, 0, 0, 0, 1, 0, 0, 0, 0, 1, 0, 0, 1, 0, 0, 0, 0, 0, 0,\n",
       "       1, 0, 0, 0, 1, 0, 0, 0, 0, 0, 0, 0, 0, 0, 0, 1, 1, 0, 0, 0, 0, 0,\n",
       "       0, 0, 0, 0, 0, 0, 0, 0, 1, 0, 0, 0, 0, 0, 0, 0, 0, 0, 0, 0, 1, 0,\n",
       "       0, 0, 0, 0, 0, 0, 0, 0, 0, 0, 1, 0, 0, 0, 0, 1, 0, 1, 0, 0, 0, 0,\n",
       "       0, 0, 0, 1, 1, 0, 0, 0, 0, 0, 0, 0, 0, 0, 0, 0, 1, 0, 0, 0, 0, 0,\n",
       "       0, 1, 0, 0, 0, 1, 0, 0, 0, 0, 0, 0, 1, 0, 0, 0, 0, 0, 0, 0, 0, 1,\n",
       "       0, 0, 0, 0, 0, 0, 0, 0, 0, 0, 0, 0, 1, 0, 0, 1, 0, 0, 0, 0, 0, 0,\n",
       "       0, 0, 0, 1, 0, 0, 0, 0, 0, 0, 0, 1, 0, 0, 0, 0, 0, 0, 0, 0, 0, 0,\n",
       "       0, 0, 0, 0, 0, 0, 0, 0, 0, 1, 0, 0, 1, 0, 0, 1, 0, 0, 0, 0, 0, 0,\n",
       "       1, 0, 0, 0, 1, 0, 0, 0, 0, 0, 0, 1, 0, 0, 0, 0, 0, 1, 0, 0, 1, 0,\n",
       "       0, 0, 0, 0, 1, 0, 0, 0, 0, 0, 0, 0, 0, 0, 1, 1, 0, 0, 0, 0, 0, 1,\n",
       "       0, 0, 1, 0, 1, 0, 0, 0, 0, 0, 0, 0, 1, 0, 0, 0, 0, 0, 0, 0, 0, 0,\n",
       "       0])"
      ]
     },
     "execution_count": 51,
     "metadata": {},
     "output_type": "execute_result"
    }
   ],
   "source": [
    "y_test"
   ]
  },
  {
   "cell_type": "raw",
   "id": "db8f172f",
   "metadata": {},
   "source": [
    "Logistic Regression"
   ]
  },
  {
   "cell_type": "code",
   "execution_count": 52,
   "id": "cb2f2112",
   "metadata": {},
   "outputs": [],
   "source": [
    "from sklearn.linear_model import LogisticRegression"
   ]
  },
  {
   "cell_type": "code",
   "execution_count": 53,
   "id": "c954f6f6",
   "metadata": {},
   "outputs": [],
   "source": [
    "lg=LogisticRegression()"
   ]
  },
  {
   "cell_type": "code",
   "execution_count": 54,
   "id": "eb35262e",
   "metadata": {},
   "outputs": [
    {
     "data": {
      "text/plain": [
       "LogisticRegression()"
      ]
     },
     "execution_count": 54,
     "metadata": {},
     "output_type": "execute_result"
    }
   ],
   "source": [
    "lg.fit(x_train,y_train)"
   ]
  },
  {
   "cell_type": "code",
   "execution_count": 55,
   "id": "150fceac",
   "metadata": {},
   "outputs": [],
   "source": [
    "y_pred_lg=lg.predict(x_test)\n"
   ]
  },
  {
   "cell_type": "code",
   "execution_count": 56,
   "id": "831ccf74",
   "metadata": {},
   "outputs": [
    {
     "data": {
      "text/plain": [
       "array([ 1.30302477e-01,  2.17626230e-01,  3.46282415e-01,  5.41382549e-03,\n",
       "        4.99292896e-01,  1.01628868e-01,  3.44742777e-01,  1.23994945e-01,\n",
       "       -1.60694945e-01,  4.02435622e-01,  1.44159172e-01,  2.67416840e-01,\n",
       "       -4.62559536e-02,  5.58671849e-01,  2.81858700e-01,  1.53537792e-02,\n",
       "        1.78573363e-01,  2.77532834e-01,  9.37121052e-02,  2.17571624e-01,\n",
       "        2.65936178e-01,  1.41499184e-02,  8.36251186e-02,  9.58849826e-02,\n",
       "        5.09869963e-01,  2.94764240e-01,  7.85819529e-02,  1.26647773e-01,\n",
       "        5.05518902e-01,  8.48456917e-02, -7.97229275e-02,  2.15516993e-02,\n",
       "        1.08079105e-01,  3.65998400e-01,  1.24517362e-01,  5.13682786e-02,\n",
       "        1.06749689e-01,  6.07640778e-02,  6.66425313e-02,  4.81312859e-02,\n",
       "       -1.16761425e-02, -2.97852924e-02,  5.25135582e-02, -1.59076817e-02,\n",
       "       -1.71522795e-02,  4.17777714e-01,  3.67341564e-01, -2.14569245e-01,\n",
       "        5.47964121e-01,  4.40723777e-01,  1.96701754e-01,  4.42415223e-01,\n",
       "        1.45760263e-01,  3.75821843e-01,  4.92762622e-01,  2.95885645e-01,\n",
       "       -4.62363391e-02,  3.16337190e-01, -7.90813313e-03,  2.52644685e-01,\n",
       "       -3.18239329e-02,  2.83907645e-01,  9.03615010e-02,  1.26934391e-01,\n",
       "        3.58670014e-01,  2.40923530e-02,  3.55890111e-01,  1.95961225e-01,\n",
       "        1.28554515e-01,  1.18806226e-01, -2.86217094e-02,  3.17635336e-01,\n",
       "        1.08017895e-01,  1.25723940e-01,  2.30183307e-01,  9.84315444e-02,\n",
       "        9.10911969e-02,  2.72901425e-01,  2.52029723e-01,  4.09210759e-02,\n",
       "       -9.10277454e-02, -1.08769544e-02,  1.94114970e-01, -2.25933708e-02,\n",
       "       -1.73984898e-02,  1.15587264e-01,  8.36037575e-02,  2.82744685e-03,\n",
       "        4.96507732e-02,  2.41862504e-01,  3.14048594e-01,  2.26261102e-01,\n",
       "        3.30118359e-01,  2.38527777e-01, -2.16338946e-02,  2.26553579e-01,\n",
       "        3.01400098e-01,  2.98806055e-01,  9.89137248e-02,  8.90108718e-02,\n",
       "        2.86485256e-01,  5.00403045e-01,  3.03125892e-01, -4.87373316e-03,\n",
       "        1.71527163e-01, -5.37529492e-03,  2.54338027e-02,  2.15725447e-01,\n",
       "        6.00786752e-02,  1.64813384e-01,  1.09106397e-01,  1.08287462e-01,\n",
       "       -3.09499535e-02,  1.96828572e-01,  9.71193504e-02,  3.19061388e-02,\n",
       "        1.07934574e-01,  2.33635162e-01, -8.52754375e-02, -7.69198906e-02,\n",
       "        2.00624349e-01,  3.35600477e-02,  1.28249663e-01,  6.03012321e-01,\n",
       "        5.78155766e-03, -3.07808886e-02, -1.45938525e-01,  2.19398082e-01,\n",
       "        2.76229397e-01,  1.67698116e-01, -2.88123044e-03,  2.62341213e-01,\n",
       "        4.41290897e-01,  3.95975088e-01,  1.70004873e-01,  4.18305270e-01,\n",
       "        4.90462749e-01,  2.02777466e-01,  1.57881421e-01,  3.60759061e-01,\n",
       "        2.26021266e-01,  1.45366468e-01,  2.13509469e-01,  2.67909863e-01,\n",
       "        3.12986724e-01, -8.02842312e-04,  1.49216491e-01, -1.34599710e-01,\n",
       "        2.08537425e-01,  2.79887773e-01,  1.16637429e-01,  2.74165030e-01,\n",
       "        5.51651427e-02,  3.41585144e-01,  1.70439326e-01, -7.99466715e-06,\n",
       "       -4.10384806e-02,  1.34296605e-01, -1.03707555e-01, -5.60163735e-02,\n",
       "        3.36748074e-01, -9.48504896e-02,  2.11704189e-01,  6.18083877e-01,\n",
       "        2.03467623e-01,  3.04552682e-01,  1.81990599e-01,  1.84838109e-01,\n",
       "       -3.51278477e-03, -8.95239598e-02,  4.14367926e-02,  1.31087001e-01,\n",
       "        1.73558095e-01,  1.58265827e-01, -8.67210631e-02,  1.87726385e-01,\n",
       "        1.99929237e-01,  1.82109241e-01,  1.03646411e-01,  1.91244072e-01,\n",
       "        2.59558194e-03,  1.94666775e-01, -6.08132432e-02,  5.85376580e-01,\n",
       "        6.66728668e-02,  4.49620331e-02,  3.30502696e-01,  9.74393000e-02,\n",
       "        5.51447175e-01,  1.52212203e-01,  3.58819339e-01,  3.66371593e-01,\n",
       "        2.47091987e-01,  5.86970935e-02,  1.28678988e-01,  2.80584025e-01,\n",
       "        7.21059443e-02, -8.07006907e-02,  3.39791632e-01,  8.25270203e-02,\n",
       "        2.20338157e-01,  2.47703594e-01,  4.97067397e-01,  1.36010592e-01,\n",
       "        2.88153807e-01,  4.61306498e-02,  4.52544344e-01, -8.24037634e-02,\n",
       "        2.26796295e-01,  1.42129836e-02,  1.62111340e-01,  2.32246950e-01,\n",
       "        9.12503556e-02,  1.18866795e-01,  2.12735292e-01, -2.69559828e-02,\n",
       "        4.53611463e-02,  1.09618223e-01,  2.64436901e-02,  2.32180310e-01,\n",
       "        1.63285101e-01,  2.42669261e-01,  5.44757533e-01,  1.25881866e-01,\n",
       "        3.69790740e-01, -8.06922880e-02,  1.41602350e-01,  2.86556696e-01,\n",
       "        3.14270745e-01,  1.31598745e-02, -3.56345942e-02,  3.52829749e-01,\n",
       "        1.02471015e-01, -2.94842589e-02,  2.57263086e-01,  3.45463501e-01,\n",
       "        2.95912601e-01, -1.38481386e-01,  1.39636723e-01, -8.70051183e-03,\n",
       "        2.17465256e-01,  2.93583931e-01,  6.93712202e-02,  3.06337299e-01,\n",
       "        7.14844408e-02,  2.70630586e-02,  4.05512634e-01,  3.33607408e-01,\n",
       "        2.35671783e-03,  2.58266642e-01,  3.28293834e-01,  3.94701029e-01,\n",
       "        5.53232045e-01,  8.24575153e-02,  2.60944796e-01,  1.00753288e-01,\n",
       "        1.17357357e-02,  5.30783755e-01,  3.34968808e-01,  3.45523339e-01,\n",
       "        3.76281748e-01,  5.21936641e-02,  2.44296627e-01,  1.32761428e-01,\n",
       "        1.44137632e-01,  1.36122719e-01, -1.50213908e-01,  3.08890370e-01,\n",
       "        4.13235863e-01,  1.22281664e-01,  1.68280274e-01, -2.76779470e-02,\n",
       "        1.98539478e-01,  8.16150794e-02, -5.55975856e-02,  3.32714819e-02,\n",
       "        1.75976835e-01,  3.52080081e-01,  3.23931239e-01,  2.91336298e-01,\n",
       "        2.80094379e-01, -7.13513228e-02,  1.84517461e-01,  2.02965882e-01,\n",
       "        1.85810057e-01,  2.53361102e-01, -1.32535327e-01,  2.80650525e-01,\n",
       "       -1.30523540e-01,  1.68946256e-02,  2.95502669e-01,  6.09961123e-01,\n",
       "        1.20850048e-01,  2.99264202e-01,  2.47516030e-01, -1.59794079e-02,\n",
       "        3.11830741e-01,  2.55878748e-01,  5.64831824e-01, -8.48534911e-02,\n",
       "        2.27251205e-01,  1.35034035e-01,  1.83392922e-01,  2.67565441e-02,\n",
       "        1.04636218e-01,  1.31700032e-01,  2.07655641e-01,  3.32733438e-01,\n",
       "       -2.01238580e-01, -9.51544438e-02,  4.94665237e-02, -7.32543548e-03,\n",
       "        2.09656376e-01,  2.75173006e-01,  2.27685889e-01,  2.80495892e-01,\n",
       "        2.36503496e-01,  7.47322815e-02,  1.20343079e-01, -1.10102575e-02,\n",
       "        2.66505865e-01,  1.34380235e-01,  3.83985037e-01,  3.27038149e-01,\n",
       "        1.92718914e-01,  1.38040637e-01,  3.13471437e-01,  3.03369774e-01,\n",
       "       -1.79198125e-01,  1.06960652e-01, -3.23223785e-03,  3.45401694e-01,\n",
       "        1.36157048e-01,  3.82744300e-01,  2.46142802e-01, -1.70015194e-01,\n",
       "        2.55048994e-01, -2.28290648e-01,  3.36992530e-01,  1.49968922e-01,\n",
       "        1.17049406e-01,  4.83890032e-01,  1.46067187e-01,  4.18288393e-01,\n",
       "        1.16743641e-01,  9.56873703e-03,  2.34800404e-01,  1.36313424e-01,\n",
       "        7.74987760e-03,  2.34345722e-01,  6.10723706e-02,  3.41757613e-01,\n",
       "        1.59047657e-01,  9.67999468e-02,  2.32540380e-01, -8.19460772e-02,\n",
       "        1.93362458e-01,  1.91174979e-01, -6.58901852e-03,  2.65125211e-01,\n",
       "       -2.67132109e-01, -3.75025206e-02,  1.82935564e-01,  1.80163736e-02,\n",
       "        1.97392018e-01,  2.06959344e-01, -1.09857091e-01,  3.54059406e-01,\n",
       "        7.26868239e-02,  2.36653676e-01, -8.20686416e-02,  3.20816139e-01,\n",
       "        1.60355866e-02,  2.39463166e-01,  3.15828470e-01,  1.23580438e-01,\n",
       "        8.23103381e-03,  9.37109487e-02,  4.76095644e-01, -5.67913774e-02,\n",
       "        3.21054350e-01,  1.87697945e-02,  1.84780396e-01,  2.15401165e-01,\n",
       "       -2.02255818e-01,  2.52065992e-01, -1.51719947e-01,  3.50282752e-01,\n",
       "       -9.84668529e-02,  2.14753151e-01,  2.46151971e-02,  2.09633480e-01,\n",
       "        9.48374386e-02,  3.12075361e-01,  4.06959059e-01, -2.26761393e-02,\n",
       "        7.65002089e-02,  3.06988986e-01,  4.37484499e-02,  1.09186169e-01,\n",
       "        4.21237022e-01,  1.49225126e-01,  4.45704191e-02,  3.37793947e-02,\n",
       "        9.97831984e-02, -5.30137196e-02,  3.47224412e-01,  1.03944090e-01,\n",
       "       -4.09963236e-02, -5.78838569e-02,  3.09525724e-01,  1.02060488e-01,\n",
       "        2.09447907e-01,  4.10525192e-01,  3.33473319e-01,  1.80971041e-01,\n",
       "        2.76792072e-01,  2.86132531e-01,  2.62476320e-01, -1.83021903e-02,\n",
       "        2.36094900e-01,  1.54018489e-01,  6.36220924e-02,  6.18224799e-03,\n",
       "        1.85057193e-02,  7.69476922e-02,  1.34623859e-01,  1.87169316e-01,\n",
       "        2.36666289e-01, -1.82114662e-01,  2.98547908e-01,  1.73398527e-01,\n",
       "       -8.87118635e-02,  3.51838607e-02,  1.35598577e-01,  1.70085191e-01,\n",
       "        1.69932034e-01,  2.29056852e-01,  2.15573570e-01,  1.04403736e-01,\n",
       "       -8.21467550e-02])"
      ]
     },
     "execution_count": 56,
     "metadata": {},
     "output_type": "execute_result"
    }
   ],
   "source": [
    "y_pred"
   ]
  },
  {
   "cell_type": "code",
   "execution_count": 57,
   "id": "d9637510",
   "metadata": {},
   "outputs": [
    {
     "data": {
      "text/plain": [
       "array([0, 0, 1, 0, 1, 0, 1, 0, 0, 1, 0, 1, 0, 1, 0, 0, 0, 1, 0, 0, 0, 0,\n",
       "       0, 0, 0, 0, 0, 0, 0, 0, 0, 0, 0, 1, 0, 0, 0, 0, 1, 0, 0, 0, 0, 0,\n",
       "       0, 1, 0, 0, 1, 1, 0, 1, 0, 0, 1, 0, 0, 1, 0, 0, 0, 0, 0, 0, 0, 0,\n",
       "       1, 1, 0, 1, 0, 0, 0, 0, 0, 0, 0, 0, 1, 0, 0, 0, 0, 0, 0, 0, 0, 0,\n",
       "       0, 0, 0, 0, 0, 0, 0, 0, 0, 0, 0, 0, 1, 1, 0, 0, 0, 0, 0, 0, 0, 0,\n",
       "       0, 0, 0, 0, 0, 0, 0, 0, 0, 0, 0, 0, 0, 1, 0, 0, 0, 0, 0, 0, 0, 1,\n",
       "       1, 0, 0, 0, 1, 0, 0, 0, 0, 0, 0, 0, 0, 1, 0, 0, 1, 0, 0, 0, 0, 1,\n",
       "       0, 0, 0, 0, 0, 0, 1, 0, 0, 1, 0, 0, 0, 0, 0, 0, 0, 1, 0, 0, 1, 0,\n",
       "       0, 0, 0, 0, 0, 0, 0, 1, 0, 0, 0, 0, 1, 0, 0, 1, 0, 0, 0, 0, 0, 0,\n",
       "       1, 0, 0, 0, 1, 0, 0, 0, 0, 0, 0, 0, 0, 0, 0, 1, 1, 0, 0, 0, 0, 0,\n",
       "       0, 0, 0, 0, 0, 0, 0, 0, 1, 0, 0, 0, 0, 0, 0, 0, 0, 0, 0, 0, 1, 0,\n",
       "       0, 0, 0, 0, 0, 0, 0, 0, 0, 0, 1, 0, 0, 0, 0, 1, 0, 1, 0, 0, 0, 0,\n",
       "       0, 0, 0, 1, 1, 0, 0, 0, 0, 0, 0, 0, 0, 0, 0, 0, 1, 0, 0, 0, 0, 0,\n",
       "       0, 1, 0, 0, 0, 1, 0, 0, 0, 0, 0, 0, 1, 0, 0, 0, 0, 0, 0, 0, 0, 1,\n",
       "       0, 0, 0, 0, 0, 0, 0, 0, 0, 0, 0, 0, 1, 0, 0, 1, 0, 0, 0, 0, 0, 0,\n",
       "       0, 0, 0, 1, 0, 0, 0, 0, 0, 0, 0, 1, 0, 0, 0, 0, 0, 0, 0, 0, 0, 0,\n",
       "       0, 0, 0, 0, 0, 0, 0, 0, 0, 1, 0, 0, 1, 0, 0, 1, 0, 0, 0, 0, 0, 0,\n",
       "       1, 0, 0, 0, 1, 0, 0, 0, 0, 0, 0, 1, 0, 0, 0, 0, 0, 1, 0, 0, 1, 0,\n",
       "       0, 0, 0, 0, 1, 0, 0, 0, 0, 0, 0, 0, 0, 0, 1, 1, 0, 0, 0, 0, 0, 1,\n",
       "       0, 0, 1, 0, 1, 0, 0, 0, 0, 0, 0, 0, 1, 0, 0, 0, 0, 0, 0, 0, 0, 0,\n",
       "       0])"
      ]
     },
     "execution_count": 57,
     "metadata": {},
     "output_type": "execute_result"
    }
   ],
   "source": [
    "y_test"
   ]
  },
  {
   "cell_type": "code",
   "execution_count": 58,
   "id": "42856631",
   "metadata": {},
   "outputs": [
    {
     "name": "stdout",
     "output_type": "stream",
     "text": [
      "0.8820861678004536\n"
     ]
    }
   ],
   "source": [
    "score = lg.score(x_test, y_test)\n",
    "print(score)"
   ]
  },
  {
   "cell_type": "markdown",
   "id": "574ea822",
   "metadata": {},
   "source": [
    "# Confusion Matrix"
   ]
  },
  {
   "cell_type": "code",
   "execution_count": 59,
   "id": "3099d07d",
   "metadata": {},
   "outputs": [
    {
     "name": "stdout",
     "output_type": "stream",
     "text": [
      "[[366   5]\n",
      " [ 47  23]]\n"
     ]
    }
   ],
   "source": [
    "from sklearn import metrics\n",
    "cm = metrics.confusion_matrix(y_test,y_pred_lg)\n",
    "print(cm)"
   ]
  },
  {
   "cell_type": "markdown",
   "id": "2583a65a",
   "metadata": {},
   "source": [
    "# Ridge and Lasso"
   ]
  },
  {
   "cell_type": "code",
   "execution_count": 60,
   "id": "2b7ee18f",
   "metadata": {},
   "outputs": [],
   "source": [
    "from sklearn.linear_model import Ridge\n",
    "from sklearn.model_selection import GridSearchCV"
   ]
  },
  {
   "cell_type": "code",
   "execution_count": 61,
   "id": "2654d305",
   "metadata": {},
   "outputs": [],
   "source": [
    "rg=Ridge()"
   ]
  },
  {
   "cell_type": "code",
   "execution_count": 62,
   "id": "1622a18a",
   "metadata": {},
   "outputs": [
    {
     "data": {
      "text/plain": [
       "GridSearchCV(cv=5, estimator=Ridge(),\n",
       "             param_grid={'alpha': [1, 2, 3, 5, 10, 20, 30, 40, 60, 70, 80, 90]},\n",
       "             scoring='neg_mean_squared_error')"
      ]
     },
     "execution_count": 62,
     "metadata": {},
     "output_type": "execute_result"
    }
   ],
   "source": [
    "parametres={\"alpha\":[1,2,3,5,10,20,30,40,60,70,80,90]}\n",
    "ridgecv=GridSearchCV(rg,parametres,scoring=\"neg_mean_squared_error\",cv=5)\n",
    "ridgecv.fit(x_train,y_train)"
   ]
  },
  {
   "cell_type": "code",
   "execution_count": 63,
   "id": "e88d7302",
   "metadata": {},
   "outputs": [
    {
     "name": "stdout",
     "output_type": "stream",
     "text": [
      "{'alpha': 90}\n"
     ]
    }
   ],
   "source": [
    "print(ridgecv.best_params_)"
   ]
  },
  {
   "cell_type": "code",
   "execution_count": 64,
   "id": "71ff3fa7",
   "metadata": {},
   "outputs": [
    {
     "name": "stdout",
     "output_type": "stream",
     "text": [
      "-0.11390621139234183\n"
     ]
    }
   ],
   "source": [
    "print(ridgecv.best_score_)"
   ]
  },
  {
   "cell_type": "code",
   "execution_count": 65,
   "id": "28095d2c",
   "metadata": {},
   "outputs": [],
   "source": [
    "y_pred_rg=ridgecv.predict(x_test)"
   ]
  },
  {
   "cell_type": "code",
   "execution_count": 66,
   "id": "c83eb130",
   "metadata": {},
   "outputs": [
    {
     "data": {
      "text/plain": [
       "array([ 1.34413485e-01,  2.22561818e-01,  3.41692977e-01,  3.88209867e-03,\n",
       "        4.84617338e-01,  1.16361483e-01,  3.30449743e-01,  1.27358807e-01,\n",
       "       -1.34442619e-01,  3.77692888e-01,  1.33001445e-01,  2.69898751e-01,\n",
       "       -2.54707392e-02,  5.25771894e-01,  2.67543514e-01,  2.78725024e-02,\n",
       "        1.82233111e-01,  2.78896415e-01,  9.12689699e-02,  2.11494641e-01,\n",
       "        2.70103341e-01,  8.44922044e-03,  8.74746722e-02,  1.05348798e-01,\n",
       "        4.87749940e-01,  2.83080512e-01,  8.80556209e-02,  1.23817268e-01,\n",
       "        4.82185624e-01,  9.34824523e-02, -7.16448509e-02,  4.07003104e-02,\n",
       "        1.08437994e-01,  3.42151399e-01,  1.22270929e-01,  6.85889862e-02,\n",
       "        1.06690533e-01,  7.08689637e-02,  7.51570276e-02,  6.05829413e-02,\n",
       "        1.08782897e-02, -6.91368661e-03,  5.83191600e-02, -1.54680056e-02,\n",
       "       -4.02267475e-03,  4.08010612e-01,  3.43668700e-01, -1.83519405e-01,\n",
       "        5.29536511e-01,  4.27646098e-01,  1.95234877e-01,  4.25012930e-01,\n",
       "        1.40754410e-01,  3.52173952e-01,  4.70372694e-01,  2.89240343e-01,\n",
       "       -3.11642726e-02,  3.04206456e-01,  9.89337674e-03,  2.44569884e-01,\n",
       "       -1.40249115e-02,  2.75133912e-01,  8.64669565e-02,  1.24214885e-01,\n",
       "        3.48994545e-01,  3.41026778e-02,  3.40548051e-01,  1.95847356e-01,\n",
       "        1.30040885e-01,  1.32259137e-01, -2.34680143e-02,  3.04595468e-01,\n",
       "        1.12452197e-01,  1.30525275e-01,  2.19329505e-01,  9.44722098e-02,\n",
       "        9.98185782e-02,  2.60042486e-01,  2.51475715e-01,  4.59039018e-02,\n",
       "       -7.94007856e-02, -7.05812314e-03,  2.04344419e-01, -3.97180151e-03,\n",
       "       -5.91286905e-03,  1.26797761e-01,  8.02495203e-02,  2.55422079e-02,\n",
       "        4.65384158e-02,  2.32985240e-01,  3.16063931e-01,  2.02833301e-01,\n",
       "        3.14235904e-01,  2.33427101e-01, -1.42446708e-02,  2.24789285e-01,\n",
       "        2.94719863e-01,  2.94698323e-01,  1.19907108e-01,  9.47152062e-02,\n",
       "        2.86026178e-01,  4.75925979e-01,  2.87802013e-01,  6.72561468e-03,\n",
       "        1.65013565e-01,  1.72887026e-02,  3.34684186e-02,  2.15466121e-01,\n",
       "        7.50317322e-02,  1.67646673e-01,  1.16585544e-01,  1.07157808e-01,\n",
       "       -1.84689359e-02,  1.86217544e-01,  1.16586463e-01,  4.67201201e-02,\n",
       "        1.11060472e-01,  2.27053971e-01, -7.00247692e-02, -5.81070776e-02,\n",
       "        2.03141688e-01,  4.69029664e-02,  1.31525768e-01,  5.66738022e-01,\n",
       "        2.41883060e-02, -3.41250985e-02, -1.13904557e-01,  2.18572744e-01,\n",
       "        2.60568042e-01,  1.65533667e-01, -5.94078459e-05,  2.60009384e-01,\n",
       "        4.20709666e-01,  3.71031267e-01,  1.70250288e-01,  4.03052216e-01,\n",
       "        4.67312765e-01,  1.98845366e-01,  1.55005619e-01,  3.41505080e-01,\n",
       "        2.20024496e-01,  1.40989758e-01,  1.97796963e-01,  2.57841889e-01,\n",
       "        2.99122317e-01,  9.24907038e-03,  1.39162817e-01, -1.13916709e-01,\n",
       "        1.97670909e-01,  2.70864780e-01,  1.22454317e-01,  2.58893294e-01,\n",
       "        6.78818374e-02,  3.08485027e-01,  1.49347982e-01,  2.01436659e-02,\n",
       "       -3.30262214e-02,  1.44305312e-01, -8.99199978e-02, -3.74712872e-02,\n",
       "        3.10198738e-01, -7.96862570e-02,  2.18579680e-01,  5.85363859e-01,\n",
       "        1.98166099e-01,  3.02558934e-01,  1.82182301e-01,  1.84955080e-01,\n",
       "        1.83694574e-02, -7.41419216e-02,  4.48013268e-02,  1.38405390e-01,\n",
       "        1.84013774e-01,  1.60373463e-01, -6.83819091e-02,  2.00146771e-01,\n",
       "        1.97563797e-01,  1.73505024e-01,  1.01481984e-01,  1.83169586e-01,\n",
       "        1.99747065e-02,  1.81881922e-01, -5.23948254e-02,  5.46171171e-01,\n",
       "        6.66114639e-02,  5.88865384e-02,  3.17247692e-01,  9.77721299e-02,\n",
       "        5.25297461e-01,  1.62566350e-01,  3.51341492e-01,  3.58324715e-01,\n",
       "        2.37059552e-01,  8.05788438e-02,  1.36041888e-01,  2.66653277e-01,\n",
       "        7.95513973e-02, -6.96788172e-02,  3.29442074e-01,  8.93231393e-02,\n",
       "        2.16673846e-01,  2.50725892e-01,  4.72995721e-01,  1.26285837e-01,\n",
       "        2.72059331e-01,  6.13056795e-02,  4.38912502e-01, -7.79381284e-02,\n",
       "        2.09974643e-01,  2.20746796e-02,  1.56186553e-01,  2.26485767e-01,\n",
       "        9.61150570e-02,  1.27870464e-01,  2.13995902e-01, -9.95070059e-03,\n",
       "        2.59908614e-02,  1.24499158e-01,  3.31256404e-02,  2.39369272e-01,\n",
       "        1.48870840e-01,  2.49438253e-01,  5.25239856e-01,  1.25104891e-01,\n",
       "        3.65711314e-01, -5.96554519e-02,  1.45443911e-01,  2.80327834e-01,\n",
       "        3.15149040e-01,  2.25038913e-02, -2.55968584e-02,  3.39893959e-01,\n",
       "        1.13068264e-01, -1.40778596e-02,  2.41548652e-01,  3.30468114e-01,\n",
       "        2.79352111e-01, -1.11653133e-01,  1.30812123e-01,  5.94136334e-03,\n",
       "        2.15791900e-01,  2.89769560e-01,  6.35971718e-02,  2.98116673e-01,\n",
       "        5.90198982e-02,  4.13352130e-02,  3.77978672e-01,  3.28916149e-01,\n",
       "        3.93836061e-03,  2.47850806e-01,  3.23692453e-01,  3.69738410e-01,\n",
       "        5.25445397e-01,  8.81102278e-02,  2.60937425e-01,  9.86284476e-02,\n",
       "        1.33675781e-02,  5.03508194e-01,  3.13852304e-01,  3.23698856e-01,\n",
       "        3.56168397e-01,  6.40677131e-02,  2.39875950e-01,  1.30293453e-01,\n",
       "        1.49885837e-01,  1.46778013e-01, -1.27871947e-01,  3.00062088e-01,\n",
       "        3.83140060e-01,  1.33561747e-01,  1.76445188e-01, -2.02405714e-02,\n",
       "        2.05300799e-01,  8.08917915e-02, -2.89389327e-02,  3.88975789e-02,\n",
       "        1.66754600e-01,  3.46231726e-01,  3.01325806e-01,  2.82141156e-01,\n",
       "        2.72386022e-01, -4.84039332e-02,  1.90411095e-01,  1.89810174e-01,\n",
       "        1.67705712e-01,  2.58007480e-01, -1.08871386e-01,  2.70056893e-01,\n",
       "       -1.13365420e-01,  3.41754165e-02,  2.92189798e-01,  5.71351976e-01,\n",
       "        1.25404974e-01,  2.97241061e-01,  2.29580043e-01,  2.16006118e-03,\n",
       "        2.94123343e-01,  2.48418344e-01,  5.44089373e-01, -6.68570736e-02,\n",
       "        2.24222741e-01,  1.35207932e-01,  1.91240682e-01,  3.87158365e-02,\n",
       "        1.17416027e-01,  1.20780070e-01,  2.19845528e-01,  3.11363894e-01,\n",
       "       -1.70611843e-01, -6.89093044e-02,  5.87182022e-02,  1.46846582e-02,\n",
       "        2.07924051e-01,  2.57017951e-01,  2.33929422e-01,  2.81772193e-01,\n",
       "        2.28214280e-01,  8.56533063e-02,  1.28782763e-01,  6.89964545e-03,\n",
       "        2.66888647e-01,  1.25060071e-01,  3.71449815e-01,  3.23080605e-01,\n",
       "        1.80691831e-01,  1.35736688e-01,  3.05937337e-01,  3.02505887e-01,\n",
       "       -1.61842349e-01,  1.22990350e-01,  1.33351902e-02,  3.42072173e-01,\n",
       "        1.35302335e-01,  3.71921241e-01,  2.43987619e-01, -1.42777272e-01,\n",
       "        2.54178774e-01, -1.97769860e-01,  3.22194537e-01,  1.46753524e-01,\n",
       "        1.28207748e-01,  4.59813547e-01,  1.49345212e-01,  3.97978765e-01,\n",
       "        1.11492990e-01,  2.94090069e-02,  2.30676290e-01,  1.19192017e-01,\n",
       "        1.49461455e-02,  2.42284371e-01,  7.22361156e-02,  3.33852369e-01,\n",
       "        1.61213354e-01,  9.69685794e-02,  2.32264965e-01, -6.93181380e-02,\n",
       "        1.86467739e-01,  2.03098589e-01, -1.10349710e-02,  2.63095846e-01,\n",
       "       -2.48406147e-01, -3.25418955e-02,  1.74487006e-01,  2.62780720e-02,\n",
       "        1.91428194e-01,  2.03493779e-01, -8.84696022e-02,  3.35631012e-01,\n",
       "        6.29476544e-02,  2.28818932e-01, -7.72255471e-02,  3.05353195e-01,\n",
       "        3.63634109e-02,  2.30128273e-01,  3.03522210e-01,  1.05913376e-01,\n",
       "        1.26693452e-02,  9.53511494e-02,  4.52766233e-01, -4.37470263e-02,\n",
       "        3.05687630e-01,  3.57706117e-02,  1.82867743e-01,  2.10106289e-01,\n",
       "       -1.71378996e-01,  2.60157245e-01, -1.38655420e-01,  3.36603939e-01,\n",
       "       -7.65297319e-02,  2.15165094e-01,  3.72947326e-02,  1.96608549e-01,\n",
       "        1.07172893e-01,  3.07687901e-01,  3.97760529e-01,  1.06797074e-03,\n",
       "        8.12866229e-02,  2.95445495e-01,  5.47994817e-02,  1.13818287e-01,\n",
       "        4.07117263e-01,  1.48860323e-01,  3.88471838e-02,  3.79029267e-02,\n",
       "        1.09895981e-01, -4.30946471e-02,  3.30298512e-01,  1.07254284e-01,\n",
       "       -1.13032643e-02, -3.69192632e-02,  2.87732288e-01,  9.91961213e-02,\n",
       "        2.12225886e-01,  3.88660531e-01,  3.15623317e-01,  1.80996998e-01,\n",
       "        2.69970366e-01,  2.81850174e-01,  2.49972461e-01, -2.33065542e-03,\n",
       "        2.34240860e-01,  1.51536128e-01,  6.56810225e-02,  1.35221573e-02,\n",
       "        3.03956323e-02,  9.22075626e-02,  1.28297232e-01,  2.04669352e-01,\n",
       "        2.26917512e-01, -1.62627965e-01,  2.95984225e-01,  1.80934145e-01,\n",
       "       -6.34810776e-02,  4.36092057e-02,  1.39814157e-01,  1.72029014e-01,\n",
       "        1.65538329e-01,  2.24411690e-01,  2.15315070e-01,  1.16342630e-01,\n",
       "       -6.24745967e-02])"
      ]
     },
     "execution_count": 66,
     "metadata": {},
     "output_type": "execute_result"
    }
   ],
   "source": [
    "y_pred_rg"
   ]
  },
  {
   "cell_type": "code",
   "execution_count": 67,
   "id": "1fb4c74e",
   "metadata": {},
   "outputs": [
    {
     "data": {
      "text/plain": [
       "array([0, 0, 1, 0, 1, 0, 1, 0, 0, 1, 0, 1, 0, 1, 0, 0, 0, 1, 0, 0, 0, 0,\n",
       "       0, 0, 0, 0, 0, 0, 0, 0, 0, 0, 0, 1, 0, 0, 0, 0, 1, 0, 0, 0, 0, 0,\n",
       "       0, 1, 0, 0, 1, 1, 0, 1, 0, 0, 1, 0, 0, 1, 0, 0, 0, 0, 0, 0, 0, 0,\n",
       "       1, 1, 0, 1, 0, 0, 0, 0, 0, 0, 0, 0, 1, 0, 0, 0, 0, 0, 0, 0, 0, 0,\n",
       "       0, 0, 0, 0, 0, 0, 0, 0, 0, 0, 0, 0, 1, 1, 0, 0, 0, 0, 0, 0, 0, 0,\n",
       "       0, 0, 0, 0, 0, 0, 0, 0, 0, 0, 0, 0, 0, 1, 0, 0, 0, 0, 0, 0, 0, 1,\n",
       "       1, 0, 0, 0, 1, 0, 0, 0, 0, 0, 0, 0, 0, 1, 0, 0, 1, 0, 0, 0, 0, 1,\n",
       "       0, 0, 0, 0, 0, 0, 1, 0, 0, 1, 0, 0, 0, 0, 0, 0, 0, 1, 0, 0, 1, 0,\n",
       "       0, 0, 0, 0, 0, 0, 0, 1, 0, 0, 0, 0, 1, 0, 0, 1, 0, 0, 0, 0, 0, 0,\n",
       "       1, 0, 0, 0, 1, 0, 0, 0, 0, 0, 0, 0, 0, 0, 0, 1, 1, 0, 0, 0, 0, 0,\n",
       "       0, 0, 0, 0, 0, 0, 0, 0, 1, 0, 0, 0, 0, 0, 0, 0, 0, 0, 0, 0, 1, 0,\n",
       "       0, 0, 0, 0, 0, 0, 0, 0, 0, 0, 1, 0, 0, 0, 0, 1, 0, 1, 0, 0, 0, 0,\n",
       "       0, 0, 0, 1, 1, 0, 0, 0, 0, 0, 0, 0, 0, 0, 0, 0, 1, 0, 0, 0, 0, 0,\n",
       "       0, 1, 0, 0, 0, 1, 0, 0, 0, 0, 0, 0, 1, 0, 0, 0, 0, 0, 0, 0, 0, 1,\n",
       "       0, 0, 0, 0, 0, 0, 0, 0, 0, 0, 0, 0, 1, 0, 0, 1, 0, 0, 0, 0, 0, 0,\n",
       "       0, 0, 0, 1, 0, 0, 0, 0, 0, 0, 0, 1, 0, 0, 0, 0, 0, 0, 0, 0, 0, 0,\n",
       "       0, 0, 0, 0, 0, 0, 0, 0, 0, 1, 0, 0, 1, 0, 0, 1, 0, 0, 0, 0, 0, 0,\n",
       "       1, 0, 0, 0, 1, 0, 0, 0, 0, 0, 0, 1, 0, 0, 0, 0, 0, 1, 0, 0, 1, 0,\n",
       "       0, 0, 0, 0, 1, 0, 0, 0, 0, 0, 0, 0, 0, 0, 1, 1, 0, 0, 0, 0, 0, 1,\n",
       "       0, 0, 1, 0, 1, 0, 0, 0, 0, 0, 0, 0, 1, 0, 0, 0, 0, 0, 0, 0, 0, 0,\n",
       "       0])"
      ]
     },
     "execution_count": 67,
     "metadata": {},
     "output_type": "execute_result"
    }
   ],
   "source": [
    "y_test"
   ]
  },
  {
   "cell_type": "code",
   "execution_count": 68,
   "id": "af3185dd",
   "metadata": {},
   "outputs": [
    {
     "name": "stdout",
     "output_type": "stream",
     "text": [
      "0.21073458438815906\n",
      "0.2061567210285109\n"
     ]
    }
   ],
   "source": [
    "from sklearn import metrics\n",
    "print(metrics.r2_score(y_test,y_pred_rg))\n",
    "print(metrics.r2_score(y_train,ridgecv.predict(x_train)))"
   ]
  },
  {
   "cell_type": "markdown",
   "id": "dbf822dc",
   "metadata": {},
   "source": [
    "# Lasso"
   ]
  },
  {
   "cell_type": "code",
   "execution_count": 69,
   "id": "4e41e70f",
   "metadata": {},
   "outputs": [],
   "source": [
    "from sklearn.linear_model import Lasso\n",
    "from sklearn.model_selection import GridSearchCV"
   ]
  },
  {
   "cell_type": "code",
   "execution_count": 70,
   "id": "3564f9ff",
   "metadata": {},
   "outputs": [],
   "source": [
    "la=Ridge()"
   ]
  },
  {
   "cell_type": "code",
   "execution_count": 71,
   "id": "349b6e00",
   "metadata": {},
   "outputs": [
    {
     "data": {
      "text/plain": [
       "GridSearchCV(cv=5, estimator=Ridge(),\n",
       "             param_grid={'alpha': [1, 2, 3, 5, 10, 20, 30, 40, 60, 70, 80, 90]},\n",
       "             scoring='neg_mean_squared_error')"
      ]
     },
     "execution_count": 71,
     "metadata": {},
     "output_type": "execute_result"
    }
   ],
   "source": [
    "parametres={\"alpha\":[1,2,3,5,10,20,30,40,60,70,80,90]}\n",
    "ridgecv=GridSearchCV(la,parametres,scoring=\"neg_mean_squared_error\",cv=5)\n",
    "ridgecv.fit(x_train,y_train)"
   ]
  },
  {
   "cell_type": "code",
   "execution_count": 72,
   "id": "e1904c07",
   "metadata": {},
   "outputs": [
    {
     "name": "stdout",
     "output_type": "stream",
     "text": [
      "{'alpha': 90}\n"
     ]
    }
   ],
   "source": [
    "print(ridgecv.best_params_)"
   ]
  },
  {
   "cell_type": "code",
   "execution_count": 73,
   "id": "9b751d40",
   "metadata": {},
   "outputs": [
    {
     "name": "stdout",
     "output_type": "stream",
     "text": [
      "-0.11390621139234183\n"
     ]
    }
   ],
   "source": [
    "print(ridgecv.best_score_)"
   ]
  },
  {
   "cell_type": "code",
   "execution_count": 74,
   "id": "5894a953",
   "metadata": {},
   "outputs": [],
   "source": [
    "y_pred_la=ridgecv.predict(x_test)"
   ]
  },
  {
   "cell_type": "code",
   "execution_count": 75,
   "id": "1f811584",
   "metadata": {},
   "outputs": [
    {
     "data": {
      "text/plain": [
       "array([ 1.34413485e-01,  2.22561818e-01,  3.41692977e-01,  3.88209867e-03,\n",
       "        4.84617338e-01,  1.16361483e-01,  3.30449743e-01,  1.27358807e-01,\n",
       "       -1.34442619e-01,  3.77692888e-01,  1.33001445e-01,  2.69898751e-01,\n",
       "       -2.54707392e-02,  5.25771894e-01,  2.67543514e-01,  2.78725024e-02,\n",
       "        1.82233111e-01,  2.78896415e-01,  9.12689699e-02,  2.11494641e-01,\n",
       "        2.70103341e-01,  8.44922044e-03,  8.74746722e-02,  1.05348798e-01,\n",
       "        4.87749940e-01,  2.83080512e-01,  8.80556209e-02,  1.23817268e-01,\n",
       "        4.82185624e-01,  9.34824523e-02, -7.16448509e-02,  4.07003104e-02,\n",
       "        1.08437994e-01,  3.42151399e-01,  1.22270929e-01,  6.85889862e-02,\n",
       "        1.06690533e-01,  7.08689637e-02,  7.51570276e-02,  6.05829413e-02,\n",
       "        1.08782897e-02, -6.91368661e-03,  5.83191600e-02, -1.54680056e-02,\n",
       "       -4.02267475e-03,  4.08010612e-01,  3.43668700e-01, -1.83519405e-01,\n",
       "        5.29536511e-01,  4.27646098e-01,  1.95234877e-01,  4.25012930e-01,\n",
       "        1.40754410e-01,  3.52173952e-01,  4.70372694e-01,  2.89240343e-01,\n",
       "       -3.11642726e-02,  3.04206456e-01,  9.89337674e-03,  2.44569884e-01,\n",
       "       -1.40249115e-02,  2.75133912e-01,  8.64669565e-02,  1.24214885e-01,\n",
       "        3.48994545e-01,  3.41026778e-02,  3.40548051e-01,  1.95847356e-01,\n",
       "        1.30040885e-01,  1.32259137e-01, -2.34680143e-02,  3.04595468e-01,\n",
       "        1.12452197e-01,  1.30525275e-01,  2.19329505e-01,  9.44722098e-02,\n",
       "        9.98185782e-02,  2.60042486e-01,  2.51475715e-01,  4.59039018e-02,\n",
       "       -7.94007856e-02, -7.05812314e-03,  2.04344419e-01, -3.97180151e-03,\n",
       "       -5.91286905e-03,  1.26797761e-01,  8.02495203e-02,  2.55422079e-02,\n",
       "        4.65384158e-02,  2.32985240e-01,  3.16063931e-01,  2.02833301e-01,\n",
       "        3.14235904e-01,  2.33427101e-01, -1.42446708e-02,  2.24789285e-01,\n",
       "        2.94719863e-01,  2.94698323e-01,  1.19907108e-01,  9.47152062e-02,\n",
       "        2.86026178e-01,  4.75925979e-01,  2.87802013e-01,  6.72561468e-03,\n",
       "        1.65013565e-01,  1.72887026e-02,  3.34684186e-02,  2.15466121e-01,\n",
       "        7.50317322e-02,  1.67646673e-01,  1.16585544e-01,  1.07157808e-01,\n",
       "       -1.84689359e-02,  1.86217544e-01,  1.16586463e-01,  4.67201201e-02,\n",
       "        1.11060472e-01,  2.27053971e-01, -7.00247692e-02, -5.81070776e-02,\n",
       "        2.03141688e-01,  4.69029664e-02,  1.31525768e-01,  5.66738022e-01,\n",
       "        2.41883060e-02, -3.41250985e-02, -1.13904557e-01,  2.18572744e-01,\n",
       "        2.60568042e-01,  1.65533667e-01, -5.94078459e-05,  2.60009384e-01,\n",
       "        4.20709666e-01,  3.71031267e-01,  1.70250288e-01,  4.03052216e-01,\n",
       "        4.67312765e-01,  1.98845366e-01,  1.55005619e-01,  3.41505080e-01,\n",
       "        2.20024496e-01,  1.40989758e-01,  1.97796963e-01,  2.57841889e-01,\n",
       "        2.99122317e-01,  9.24907038e-03,  1.39162817e-01, -1.13916709e-01,\n",
       "        1.97670909e-01,  2.70864780e-01,  1.22454317e-01,  2.58893294e-01,\n",
       "        6.78818374e-02,  3.08485027e-01,  1.49347982e-01,  2.01436659e-02,\n",
       "       -3.30262214e-02,  1.44305312e-01, -8.99199978e-02, -3.74712872e-02,\n",
       "        3.10198738e-01, -7.96862570e-02,  2.18579680e-01,  5.85363859e-01,\n",
       "        1.98166099e-01,  3.02558934e-01,  1.82182301e-01,  1.84955080e-01,\n",
       "        1.83694574e-02, -7.41419216e-02,  4.48013268e-02,  1.38405390e-01,\n",
       "        1.84013774e-01,  1.60373463e-01, -6.83819091e-02,  2.00146771e-01,\n",
       "        1.97563797e-01,  1.73505024e-01,  1.01481984e-01,  1.83169586e-01,\n",
       "        1.99747065e-02,  1.81881922e-01, -5.23948254e-02,  5.46171171e-01,\n",
       "        6.66114639e-02,  5.88865384e-02,  3.17247692e-01,  9.77721299e-02,\n",
       "        5.25297461e-01,  1.62566350e-01,  3.51341492e-01,  3.58324715e-01,\n",
       "        2.37059552e-01,  8.05788438e-02,  1.36041888e-01,  2.66653277e-01,\n",
       "        7.95513973e-02, -6.96788172e-02,  3.29442074e-01,  8.93231393e-02,\n",
       "        2.16673846e-01,  2.50725892e-01,  4.72995721e-01,  1.26285837e-01,\n",
       "        2.72059331e-01,  6.13056795e-02,  4.38912502e-01, -7.79381284e-02,\n",
       "        2.09974643e-01,  2.20746796e-02,  1.56186553e-01,  2.26485767e-01,\n",
       "        9.61150570e-02,  1.27870464e-01,  2.13995902e-01, -9.95070059e-03,\n",
       "        2.59908614e-02,  1.24499158e-01,  3.31256404e-02,  2.39369272e-01,\n",
       "        1.48870840e-01,  2.49438253e-01,  5.25239856e-01,  1.25104891e-01,\n",
       "        3.65711314e-01, -5.96554519e-02,  1.45443911e-01,  2.80327834e-01,\n",
       "        3.15149040e-01,  2.25038913e-02, -2.55968584e-02,  3.39893959e-01,\n",
       "        1.13068264e-01, -1.40778596e-02,  2.41548652e-01,  3.30468114e-01,\n",
       "        2.79352111e-01, -1.11653133e-01,  1.30812123e-01,  5.94136334e-03,\n",
       "        2.15791900e-01,  2.89769560e-01,  6.35971718e-02,  2.98116673e-01,\n",
       "        5.90198982e-02,  4.13352130e-02,  3.77978672e-01,  3.28916149e-01,\n",
       "        3.93836061e-03,  2.47850806e-01,  3.23692453e-01,  3.69738410e-01,\n",
       "        5.25445397e-01,  8.81102278e-02,  2.60937425e-01,  9.86284476e-02,\n",
       "        1.33675781e-02,  5.03508194e-01,  3.13852304e-01,  3.23698856e-01,\n",
       "        3.56168397e-01,  6.40677131e-02,  2.39875950e-01,  1.30293453e-01,\n",
       "        1.49885837e-01,  1.46778013e-01, -1.27871947e-01,  3.00062088e-01,\n",
       "        3.83140060e-01,  1.33561747e-01,  1.76445188e-01, -2.02405714e-02,\n",
       "        2.05300799e-01,  8.08917915e-02, -2.89389327e-02,  3.88975789e-02,\n",
       "        1.66754600e-01,  3.46231726e-01,  3.01325806e-01,  2.82141156e-01,\n",
       "        2.72386022e-01, -4.84039332e-02,  1.90411095e-01,  1.89810174e-01,\n",
       "        1.67705712e-01,  2.58007480e-01, -1.08871386e-01,  2.70056893e-01,\n",
       "       -1.13365420e-01,  3.41754165e-02,  2.92189798e-01,  5.71351976e-01,\n",
       "        1.25404974e-01,  2.97241061e-01,  2.29580043e-01,  2.16006118e-03,\n",
       "        2.94123343e-01,  2.48418344e-01,  5.44089373e-01, -6.68570736e-02,\n",
       "        2.24222741e-01,  1.35207932e-01,  1.91240682e-01,  3.87158365e-02,\n",
       "        1.17416027e-01,  1.20780070e-01,  2.19845528e-01,  3.11363894e-01,\n",
       "       -1.70611843e-01, -6.89093044e-02,  5.87182022e-02,  1.46846582e-02,\n",
       "        2.07924051e-01,  2.57017951e-01,  2.33929422e-01,  2.81772193e-01,\n",
       "        2.28214280e-01,  8.56533063e-02,  1.28782763e-01,  6.89964545e-03,\n",
       "        2.66888647e-01,  1.25060071e-01,  3.71449815e-01,  3.23080605e-01,\n",
       "        1.80691831e-01,  1.35736688e-01,  3.05937337e-01,  3.02505887e-01,\n",
       "       -1.61842349e-01,  1.22990350e-01,  1.33351902e-02,  3.42072173e-01,\n",
       "        1.35302335e-01,  3.71921241e-01,  2.43987619e-01, -1.42777272e-01,\n",
       "        2.54178774e-01, -1.97769860e-01,  3.22194537e-01,  1.46753524e-01,\n",
       "        1.28207748e-01,  4.59813547e-01,  1.49345212e-01,  3.97978765e-01,\n",
       "        1.11492990e-01,  2.94090069e-02,  2.30676290e-01,  1.19192017e-01,\n",
       "        1.49461455e-02,  2.42284371e-01,  7.22361156e-02,  3.33852369e-01,\n",
       "        1.61213354e-01,  9.69685794e-02,  2.32264965e-01, -6.93181380e-02,\n",
       "        1.86467739e-01,  2.03098589e-01, -1.10349710e-02,  2.63095846e-01,\n",
       "       -2.48406147e-01, -3.25418955e-02,  1.74487006e-01,  2.62780720e-02,\n",
       "        1.91428194e-01,  2.03493779e-01, -8.84696022e-02,  3.35631012e-01,\n",
       "        6.29476544e-02,  2.28818932e-01, -7.72255471e-02,  3.05353195e-01,\n",
       "        3.63634109e-02,  2.30128273e-01,  3.03522210e-01,  1.05913376e-01,\n",
       "        1.26693452e-02,  9.53511494e-02,  4.52766233e-01, -4.37470263e-02,\n",
       "        3.05687630e-01,  3.57706117e-02,  1.82867743e-01,  2.10106289e-01,\n",
       "       -1.71378996e-01,  2.60157245e-01, -1.38655420e-01,  3.36603939e-01,\n",
       "       -7.65297319e-02,  2.15165094e-01,  3.72947326e-02,  1.96608549e-01,\n",
       "        1.07172893e-01,  3.07687901e-01,  3.97760529e-01,  1.06797074e-03,\n",
       "        8.12866229e-02,  2.95445495e-01,  5.47994817e-02,  1.13818287e-01,\n",
       "        4.07117263e-01,  1.48860323e-01,  3.88471838e-02,  3.79029267e-02,\n",
       "        1.09895981e-01, -4.30946471e-02,  3.30298512e-01,  1.07254284e-01,\n",
       "       -1.13032643e-02, -3.69192632e-02,  2.87732288e-01,  9.91961213e-02,\n",
       "        2.12225886e-01,  3.88660531e-01,  3.15623317e-01,  1.80996998e-01,\n",
       "        2.69970366e-01,  2.81850174e-01,  2.49972461e-01, -2.33065542e-03,\n",
       "        2.34240860e-01,  1.51536128e-01,  6.56810225e-02,  1.35221573e-02,\n",
       "        3.03956323e-02,  9.22075626e-02,  1.28297232e-01,  2.04669352e-01,\n",
       "        2.26917512e-01, -1.62627965e-01,  2.95984225e-01,  1.80934145e-01,\n",
       "       -6.34810776e-02,  4.36092057e-02,  1.39814157e-01,  1.72029014e-01,\n",
       "        1.65538329e-01,  2.24411690e-01,  2.15315070e-01,  1.16342630e-01,\n",
       "       -6.24745967e-02])"
      ]
     },
     "execution_count": 75,
     "metadata": {},
     "output_type": "execute_result"
    }
   ],
   "source": [
    "y_pred_la"
   ]
  },
  {
   "cell_type": "code",
   "execution_count": 76,
   "id": "58afaea0",
   "metadata": {},
   "outputs": [
    {
     "name": "stdout",
     "output_type": "stream",
     "text": [
      "0.21073458438815906\n",
      "0.2061567210285109\n"
     ]
    }
   ],
   "source": [
    "from sklearn import metrics\n",
    "print(metrics.r2_score(y_test,y_pred_la))\n",
    "print(metrics.r2_score(y_train,ridgecv.predict(x_train)))"
   ]
  },
  {
   "cell_type": "markdown",
   "id": "d87635f2",
   "metadata": {},
   "source": [
    "# Decision Tree"
   ]
  },
  {
   "cell_type": "code",
   "execution_count": 82,
   "id": "cbe1c440",
   "metadata": {},
   "outputs": [],
   "source": [
    "from sklearn.tree import DecisionTreeClassifier\n",
    "dtc=DecisionTreeClassifier()"
   ]
  },
  {
   "cell_type": "code",
   "execution_count": 83,
   "id": "e97f4bbf",
   "metadata": {},
   "outputs": [
    {
     "data": {
      "text/plain": [
       "DecisionTreeClassifier()"
      ]
     },
     "execution_count": 83,
     "metadata": {},
     "output_type": "execute_result"
    }
   ],
   "source": [
    "dtc.fit(x_train,y_train)"
   ]
  },
  {
   "cell_type": "code",
   "execution_count": 84,
   "id": "fe3b3958",
   "metadata": {},
   "outputs": [],
   "source": [
    "pred=dtc.predict(x_test)"
   ]
  },
  {
   "cell_type": "code",
   "execution_count": 85,
   "id": "0d7312dc",
   "metadata": {},
   "outputs": [
    {
     "data": {
      "text/plain": [
       "array([0, 0, 0, 1, 1, 1, 0, 0, 0, 0, 0, 0, 0, 0, 0, 0, 0, 0, 0, 0, 0, 0,\n",
       "       0, 0, 1, 0, 0, 0, 1, 0, 1, 0, 1, 0, 0, 0, 0, 0, 0, 0, 0, 0, 0, 0,\n",
       "       0, 0, 0, 0, 1, 1, 0, 0, 1, 0, 1, 0, 0, 0, 0, 1, 0, 0, 0, 0, 0, 0,\n",
       "       0, 0, 0, 0, 0, 0, 0, 0, 1, 0, 0, 1, 0, 0, 0, 0, 0, 1, 0, 0, 0, 0,\n",
       "       0, 0, 0, 0, 0, 0, 0, 0, 0, 0, 0, 0, 0, 0, 0, 0, 0, 1, 0, 0, 0, 0,\n",
       "       0, 1, 0, 0, 0, 0, 0, 0, 0, 0, 0, 0, 0, 0, 0, 0, 0, 0, 0, 0, 0, 0,\n",
       "       0, 0, 0, 0, 0, 0, 0, 0, 0, 0, 1, 0, 0, 0, 0, 0, 0, 0, 0, 1, 0, 0,\n",
       "       0, 0, 0, 0, 0, 0, 1, 0, 0, 1, 0, 0, 0, 0, 0, 0, 0, 0, 0, 0, 0, 0,\n",
       "       0, 0, 0, 0, 0, 0, 0, 1, 0, 0, 0, 0, 0, 1, 1, 1, 0, 0, 0, 0, 0, 0,\n",
       "       0, 0, 0, 0, 1, 0, 1, 0, 1, 0, 0, 0, 0, 0, 0, 0, 0, 0, 0, 0, 0, 1,\n",
       "       0, 1, 1, 0, 0, 0, 0, 1, 1, 0, 0, 0, 0, 0, 0, 0, 0, 0, 1, 0, 0, 0,\n",
       "       0, 0, 0, 0, 0, 0, 0, 0, 0, 0, 0, 0, 0, 0, 0, 1, 0, 1, 0, 0, 1, 0,\n",
       "       0, 0, 0, 1, 0, 0, 0, 0, 0, 0, 0, 0, 0, 0, 0, 1, 1, 1, 0, 0, 0, 1,\n",
       "       0, 0, 0, 0, 1, 1, 0, 0, 0, 0, 0, 0, 1, 0, 1, 0, 0, 0, 0, 0, 0, 0,\n",
       "       0, 1, 1, 0, 0, 0, 0, 0, 0, 0, 1, 0, 0, 0, 0, 1, 1, 0, 1, 1, 0, 0,\n",
       "       0, 0, 0, 0, 1, 0, 0, 0, 0, 1, 0, 1, 0, 1, 0, 0, 0, 0, 0, 1, 0, 1,\n",
       "       0, 0, 0, 1, 0, 0, 0, 0, 0, 0, 0, 0, 0, 0, 0, 0, 0, 0, 0, 0, 0, 0,\n",
       "       0, 0, 0, 1, 1, 0, 1, 0, 0, 1, 0, 0, 0, 0, 1, 0, 0, 0, 1, 0, 1, 0,\n",
       "       0, 1, 0, 0, 0, 0, 0, 1, 0, 0, 0, 0, 0, 0, 0, 0, 1, 1, 0, 0, 0, 0,\n",
       "       0, 0, 0, 0, 0, 0, 0, 0, 0, 1, 0, 1, 1, 0, 0, 0, 0, 0, 0, 1, 0, 0,\n",
       "       0])"
      ]
     },
     "execution_count": 85,
     "metadata": {},
     "output_type": "execute_result"
    }
   ],
   "source": [
    "pred"
   ]
  },
  {
   "cell_type": "code",
   "execution_count": 86,
   "id": "a6d2bacb",
   "metadata": {},
   "outputs": [
    {
     "data": {
      "text/plain": [
       "array([0, 0, 1, 0, 1, 0, 1, 0, 0, 1, 0, 1, 0, 1, 0, 0, 0, 1, 0, 0, 0, 0,\n",
       "       0, 0, 0, 0, 0, 0, 0, 0, 0, 0, 0, 1, 0, 0, 0, 0, 1, 0, 0, 0, 0, 0,\n",
       "       0, 1, 0, 0, 1, 1, 0, 1, 0, 0, 1, 0, 0, 1, 0, 0, 0, 0, 0, 0, 0, 0,\n",
       "       1, 1, 0, 1, 0, 0, 0, 0, 0, 0, 0, 0, 1, 0, 0, 0, 0, 0, 0, 0, 0, 0,\n",
       "       0, 0, 0, 0, 0, 0, 0, 0, 0, 0, 0, 0, 1, 1, 0, 0, 0, 0, 0, 0, 0, 0,\n",
       "       0, 0, 0, 0, 0, 0, 0, 0, 0, 0, 0, 0, 0, 1, 0, 0, 0, 0, 0, 0, 0, 1,\n",
       "       1, 0, 0, 0, 1, 0, 0, 0, 0, 0, 0, 0, 0, 1, 0, 0, 1, 0, 0, 0, 0, 1,\n",
       "       0, 0, 0, 0, 0, 0, 1, 0, 0, 1, 0, 0, 0, 0, 0, 0, 0, 1, 0, 0, 1, 0,\n",
       "       0, 0, 0, 0, 0, 0, 0, 1, 0, 0, 0, 0, 1, 0, 0, 1, 0, 0, 0, 0, 0, 0,\n",
       "       1, 0, 0, 0, 1, 0, 0, 0, 0, 0, 0, 0, 0, 0, 0, 1, 1, 0, 0, 0, 0, 0,\n",
       "       0, 0, 0, 0, 0, 0, 0, 0, 1, 0, 0, 0, 0, 0, 0, 0, 0, 0, 0, 0, 1, 0,\n",
       "       0, 0, 0, 0, 0, 0, 0, 0, 0, 0, 1, 0, 0, 0, 0, 1, 0, 1, 0, 0, 0, 0,\n",
       "       0, 0, 0, 1, 1, 0, 0, 0, 0, 0, 0, 0, 0, 0, 0, 0, 1, 0, 0, 0, 0, 0,\n",
       "       0, 1, 0, 0, 0, 1, 0, 0, 0, 0, 0, 0, 1, 0, 0, 0, 0, 0, 0, 0, 0, 1,\n",
       "       0, 0, 0, 0, 0, 0, 0, 0, 0, 0, 0, 0, 1, 0, 0, 1, 0, 0, 0, 0, 0, 0,\n",
       "       0, 0, 0, 1, 0, 0, 0, 0, 0, 0, 0, 1, 0, 0, 0, 0, 0, 0, 0, 0, 0, 0,\n",
       "       0, 0, 0, 0, 0, 0, 0, 0, 0, 1, 0, 0, 1, 0, 0, 1, 0, 0, 0, 0, 0, 0,\n",
       "       1, 0, 0, 0, 1, 0, 0, 0, 0, 0, 0, 1, 0, 0, 0, 0, 0, 1, 0, 0, 1, 0,\n",
       "       0, 0, 0, 0, 1, 0, 0, 0, 0, 0, 0, 0, 0, 0, 1, 1, 0, 0, 0, 0, 0, 1,\n",
       "       0, 0, 1, 0, 1, 0, 0, 0, 0, 0, 0, 0, 1, 0, 0, 0, 0, 0, 0, 0, 0, 0,\n",
       "       0])"
      ]
     },
     "execution_count": 86,
     "metadata": {},
     "output_type": "execute_result"
    }
   ],
   "source": [
    "y_test"
   ]
  },
  {
   "cell_type": "code",
   "execution_count": 87,
   "id": "bb4f2a54",
   "metadata": {},
   "outputs": [],
   "source": [
    "#Accuracy score\n",
    "from sklearn.metrics import accuracy_score,confusion_matrix,classification_report,roc_auc_score,roc_curve"
   ]
  },
  {
   "cell_type": "code",
   "execution_count": 88,
   "id": "b30868c3",
   "metadata": {},
   "outputs": [
    {
     "data": {
      "text/plain": [
       "0.7664399092970522"
      ]
     },
     "execution_count": 88,
     "metadata": {},
     "output_type": "execute_result"
    }
   ],
   "source": [
    "accuracy_score(y_test,pred)"
   ]
  },
  {
   "cell_type": "code",
   "execution_count": 89,
   "id": "59bb7d5a",
   "metadata": {},
   "outputs": [
    {
     "data": {
      "text/plain": [
       "array([[317,  54],\n",
       "       [ 49,  21]], dtype=int64)"
      ]
     },
     "execution_count": 89,
     "metadata": {},
     "output_type": "execute_result"
    }
   ],
   "source": [
    "confusion_matrix(y_test,pred)"
   ]
  },
  {
   "cell_type": "code",
   "execution_count": 90,
   "id": "748a3fed",
   "metadata": {},
   "outputs": [
    {
     "data": {
      "text/html": [
       "<div>\n",
       "<style scoped>\n",
       "    .dataframe tbody tr th:only-of-type {\n",
       "        vertical-align: middle;\n",
       "    }\n",
       "\n",
       "    .dataframe tbody tr th {\n",
       "        vertical-align: top;\n",
       "    }\n",
       "\n",
       "    .dataframe thead th {\n",
       "        text-align: right;\n",
       "    }\n",
       "</style>\n",
       "<table border=\"1\" class=\"dataframe\">\n",
       "  <thead>\n",
       "    <tr style=\"text-align: right;\">\n",
       "      <th>col_0</th>\n",
       "      <th>0</th>\n",
       "      <th>1</th>\n",
       "    </tr>\n",
       "    <tr>\n",
       "      <th>row_0</th>\n",
       "      <th></th>\n",
       "      <th></th>\n",
       "    </tr>\n",
       "  </thead>\n",
       "  <tbody>\n",
       "    <tr>\n",
       "      <th>0</th>\n",
       "      <td>317</td>\n",
       "      <td>54</td>\n",
       "    </tr>\n",
       "    <tr>\n",
       "      <th>1</th>\n",
       "      <td>49</td>\n",
       "      <td>21</td>\n",
       "    </tr>\n",
       "  </tbody>\n",
       "</table>\n",
       "</div>"
      ],
      "text/plain": [
       "col_0    0   1\n",
       "row_0         \n",
       "0      317  54\n",
       "1       49  21"
      ]
     },
     "execution_count": 90,
     "metadata": {},
     "output_type": "execute_result"
    }
   ],
   "source": [
    "pd.crosstab(y_test,pred)"
   ]
  },
  {
   "cell_type": "code",
   "execution_count": 91,
   "id": "5259af09",
   "metadata": {},
   "outputs": [
    {
     "name": "stdout",
     "output_type": "stream",
     "text": [
      "              precision    recall  f1-score   support\n",
      "\n",
      "           0       0.87      0.85      0.86       371\n",
      "           1       0.28      0.30      0.29        70\n",
      "\n",
      "    accuracy                           0.77       441\n",
      "   macro avg       0.57      0.58      0.57       441\n",
      "weighted avg       0.77      0.77      0.77       441\n",
      "\n"
     ]
    }
   ],
   "source": [
    "print(classification_report(y_test,pred))"
   ]
  },
  {
   "cell_type": "code",
   "execution_count": 92,
   "id": "80af8244",
   "metadata": {},
   "outputs": [],
   "source": [
    "probability=dtc.predict_proba(x_test)[:,1]"
   ]
  },
  {
   "cell_type": "code",
   "execution_count": 94,
   "id": "913dc1a1",
   "metadata": {},
   "outputs": [],
   "source": [
    "# roc_curve\n",
    "fpr,tpr,threshsholds = roc_curve(y_test,probability)"
   ]
  },
  {
   "cell_type": "code",
   "execution_count": 95,
   "id": "233d91f1",
   "metadata": {},
   "outputs": [
    {
     "data": {
      "image/png": "[encoded data removed]",
      "text/plain": [
       "<Figure size 432x288 with 1 Axes>"
      ]
     },
     "metadata": {
      "needs_background": "light"
     },
     "output_type": "display_data"
    }
   ],
   "source": [
    "plt.plot(fpr,tpr)\n",
    "plt.xlabel('FPR')\n",
    "plt.ylabel('TPR')\n",
    "plt.title('ROC CURVE')\n",
    "plt.show()"
   ]
  },
  {
   "cell_type": "markdown",
   "id": "bb0886f7",
   "metadata": {},
   "source": [
    "# Random Forest"
   ]
  },
  {
   "cell_type": "code",
   "execution_count": 96,
   "id": "2197a9aa",
   "metadata": {},
   "outputs": [],
   "source": [
    "from sklearn.ensemble import RandomForestClassifier\n",
    "rfc=RandomForestClassifier()"
   ]
  },
  {
   "cell_type": "code",
   "execution_count": 97,
   "id": "1bbe8c09",
   "metadata": {},
   "outputs": [],
   "source": [
    "forest_params = [{'max_depth': list(range(10, 15)), 'max_features': list(range(0,14))}]"
   ]
  },
  {
   "cell_type": "code",
   "execution_count": 98,
   "id": "ca334e79",
   "metadata": {},
   "outputs": [],
   "source": [
    "from sklearn.model_selection import GridSearchCV"
   ]
  },
  {
   "cell_type": "code",
   "execution_count": 99,
   "id": "0f912900",
   "metadata": {},
   "outputs": [],
   "source": [
    "rfc_cv= GridSearchCV(rfc,param_grid=forest_params,cv=10,scoring=\"accuracy\")"
   ]
  },
  {
   "cell_type": "code",
   "execution_count": 100,
   "id": "7ee70c5a",
   "metadata": {},
   "outputs": [
    {
     "name": "stderr",
     "output_type": "stream",
     "text": [
      "C:\\Users\\suman\\anaconda3\\lib\\site-packages\\sklearn\\model_selection\\_validation.py:372: FitFailedWarning: \n",
      "50 fits failed out of a total of 700.\n",
      "The score on these train-test partitions for these parameters will be set to nan.\n",
      "If these failures are not expected, you can try to debug them by setting error_score='raise'.\n",
      "\n",
      "Below are more details about the failures:\n",
      "--------------------------------------------------------------------------------\n",
      "50 fits failed with the following error:\n",
      "Traceback (most recent call last):\n",
      "  File \"C:\\Users\\suman\\anaconda3\\lib\\site-packages\\sklearn\\model_selection\\_validation.py\", line 680, in _fit_and_score\n",
      "    estimator.fit(X_train, y_train, **fit_params)\n",
      "  File \"C:\\Users\\suman\\anaconda3\\lib\\site-packages\\sklearn\\ensemble\\_forest.py\", line 450, in fit\n",
      "    trees = Parallel(\n",
      "  File \"C:\\Users\\suman\\anaconda3\\lib\\site-packages\\joblib\\parallel.py\", line 1043, in __call__\n",
      "    if self.dispatch_one_batch(iterator):\n",
      "  File \"C:\\Users\\suman\\anaconda3\\lib\\site-packages\\joblib\\parallel.py\", line 861, in dispatch_one_batch\n",
      "    self._dispatch(tasks)\n",
      "  File \"C:\\Users\\suman\\anaconda3\\lib\\site-packages\\joblib\\parallel.py\", line 779, in _dispatch\n",
      "    job = self._backend.apply_async(batch, callback=cb)\n",
      "  File \"C:\\Users\\suman\\anaconda3\\lib\\site-packages\\joblib\\_parallel_backends.py\", line 208, in apply_async\n",
      "    result = ImmediateResult(func)\n",
      "  File \"C:\\Users\\suman\\anaconda3\\lib\\site-packages\\joblib\\_parallel_backends.py\", line 572, in __init__\n",
      "    self.results = batch()\n",
      "  File \"C:\\Users\\suman\\anaconda3\\lib\\site-packages\\joblib\\parallel.py\", line 262, in __call__\n",
      "    return [func(*args, **kwargs)\n",
      "  File \"C:\\Users\\suman\\anaconda3\\lib\\site-packages\\joblib\\parallel.py\", line 262, in <listcomp>\n",
      "    return [func(*args, **kwargs)\n",
      "  File \"C:\\Users\\suman\\anaconda3\\lib\\site-packages\\sklearn\\utils\\fixes.py\", line 216, in __call__\n",
      "    return self.function(*args, **kwargs)\n",
      "  File \"C:\\Users\\suman\\anaconda3\\lib\\site-packages\\sklearn\\ensemble\\_forest.py\", line 185, in _parallel_build_trees\n",
      "    tree.fit(X, y, sample_weight=curr_sample_weight, check_input=False)\n",
      "  File \"C:\\Users\\suman\\anaconda3\\lib\\site-packages\\sklearn\\tree\\_classes.py\", line 937, in fit\n",
      "    super().fit(\n",
      "  File \"C:\\Users\\suman\\anaconda3\\lib\\site-packages\\sklearn\\tree\\_classes.py\", line 308, in fit\n",
      "    raise ValueError(\"max_features must be in (0, n_features]\")\n",
      "ValueError: max_features must be in (0, n_features]\n",
      "\n",
      "  warnings.warn(some_fits_failed_message, FitFailedWarning)\n",
      "C:\\Users\\suman\\anaconda3\\lib\\site-packages\\sklearn\\model_selection\\_search.py:969: UserWarning: One or more of the test scores are non-finite: [       nan 0.84547877 0.84742052 0.8512945  0.85227489 0.85227489\n",
      " 0.85130402 0.85227489 0.85324576 0.8512945  0.85033314 0.84740148\n",
      " 0.847411   0.85032362        nan 0.84354654 0.84742052 0.84643061\n",
      " 0.85615839 0.85420712 0.85323625 0.8483914  0.84837236 0.85031411\n",
      " 0.8541976  0.84545974 0.85517799 0.8512945         nan 0.84644965\n",
      " 0.84644965 0.84936227 0.85227489 0.85227489 0.84837236 0.85227489\n",
      " 0.85032362 0.84545974 0.85323625 0.85420712 0.85420712 0.85422616\n",
      "        nan 0.84256615 0.85035218 0.8483914  0.85227489 0.85421664\n",
      " 0.8483914  0.85032362 0.84934323 0.85518751 0.84837236 0.85422616\n",
      " 0.85130402 0.85711974        nan 0.84548829 0.84742052 0.85422616\n",
      " 0.84936227 0.85323625 0.85323625 0.85130402 0.85130402 0.85225585\n",
      " 0.84739197 0.85322673 0.84837236 0.84935275]\n",
      "  warnings.warn(\n"
     ]
    },
    {
     "data": {
      "text/plain": [
       "GridSearchCV(cv=10, estimator=RandomForestClassifier(),\n",
       "             param_grid=[{'max_depth': [10, 11, 12, 13, 14],\n",
       "                          'max_features': [0, 1, 2, 3, 4, 5, 6, 7, 8, 9, 10, 11,\n",
       "                                           12, 13]}],\n",
       "             scoring='accuracy')"
      ]
     },
     "execution_count": 100,
     "metadata": {},
     "output_type": "execute_result"
    }
   ],
   "source": [
    "rfc_cv.fit(x_train,y_train)"
   ]
  },
  {
   "cell_type": "code",
   "execution_count": 101,
   "id": "cf065766",
   "metadata": {},
   "outputs": [],
   "source": [
    "pred=rfc_cv.predict(x_test)"
   ]
  },
  {
   "cell_type": "code",
   "execution_count": 102,
   "id": "abac6f35",
   "metadata": {},
   "outputs": [
    {
     "name": "stdout",
     "output_type": "stream",
     "text": [
      "              precision    recall  f1-score   support\n",
      "\n",
      "           0       0.87      0.98      0.92       371\n",
      "           1       0.67      0.20      0.31        70\n",
      "\n",
      "    accuracy                           0.86       441\n",
      "   macro avg       0.77      0.59      0.61       441\n",
      "weighted avg       0.83      0.86      0.82       441\n",
      "\n"
     ]
    }
   ],
   "source": [
    "print(classification_report(y_test,pred))"
   ]
  },
  {
   "cell_type": "code",
   "execution_count": 103,
   "id": "cdadc99c",
   "metadata": {},
   "outputs": [
    {
     "data": {
      "text/plain": [
       "{'max_depth': 13, 'max_features': 13}"
      ]
     },
     "execution_count": 103,
     "metadata": {},
     "output_type": "execute_result"
    }
   ],
   "source": [
    "rfc_cv.best_params_"
   ]
  },
  {
   "cell_type": "code",
   "execution_count": 104,
   "id": "57526a07",
   "metadata": {},
   "outputs": [
    {
     "data": {
      "text/plain": [
       "0.8571197411003236"
      ]
     },
     "execution_count": 104,
     "metadata": {},
     "output_type": "execute_result"
    }
   ],
   "source": [
    "rfc_cv.best_score_"
   ]
  }
 ],
 "metadata": {
  "kernelspec": {
   "display_name": "Python 3 (ipykernel)",
   "language": "python",
   "name": "python3"
  },
  "language_info": {
   "codemirror_mode": {
    "name": "ipython",
    "version": 3
   },
   "file_extension": ".py",
   "mimetype": "text/x-python",
   "name": "python",
   "nbconvert_exporter": "python",
   "pygments_lexer": "ipython3",
   "version": "3.9.12"
  }
 },
 "nbformat": 4,
 "nbformat_minor": 5
}
